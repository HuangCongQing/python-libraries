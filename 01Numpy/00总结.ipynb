{
 "metadata": {
  "language_info": {
   "codemirror_mode": {
    "name": "ipython",
    "version": 3
   },
   "file_extension": ".py",
   "mimetype": "text/x-python",
   "name": "python",
   "nbconvert_exporter": "python",
   "pygments_lexer": "ipython3",
   "version": "3.6.12"
  },
  "orig_nbformat": 2,
  "kernelspec": {
   "name": "python361264bitcommoncondaa81e1824668348f78cb5fa8410e18e57",
   "display_name": "Python 3.6.12 64-bit ('common': conda)"
  },
  "metadata": {
   "interpreter": {
    "hash": "9e448ea22042ddd26567fb390bbbe4eeefe3b92c7642735c8d963670b078654d"
   }
  }
 },
 "nbformat": 4,
 "nbformat_minor": 2,
 "cells": [
  {
   "source": [
    "# 总结\n",
    "\n",
    "\n",
    "https://www.yuque.com/huangzhongqing/efgg5d/kqgvck\n",
    "\n",
    "1 向量：一维数组\n",
    "\n",
    "2 矩阵：二维数组\n",
    "\n",
    "3 三维及更高维数组\n",
    "\n",
    "\n",
    "\n"
   ],
   "cell_type": "markdown",
   "metadata": {}
  },
  {
   "source": [
    "## 1 向量 （一维数组）"
   ],
   "cell_type": "markdown",
   "metadata": {}
  },
  {
   "cell_type": "code",
   "execution_count": 40,
   "metadata": {},
   "outputs": [
    {
     "output_type": "stream",
     "name": "stdout",
     "text": [
      "[False False False False  True  True]\n[4 5]\n"
     ]
    }
   ],
   "source": [
    "import numpy as np\n",
    "\n",
    "# 初始化\n",
    "a = np.array([1,2,3],dtype=np.float64)\n",
    "b= np.array((2,3))\n",
    "# print(a)\n",
    "# print(b.shape)\n",
    "# 所有用常量填充创建的数组的函数都有一个_like对应项，来创建相同类型的常数数组：\n",
    "# a= np.array([1,2,3])\n",
    "# b = np.ones_like(a)\n",
    "# print(a,b)\n",
    "\n",
    "# linspace(start, stop, num=50, endpoint=True, retstep=False, dtype=None)\n",
    "np.linspace(0, 1,10)\n",
    "\n",
    "# 布尔运算\n",
    "x = np.arange(6)\n",
    "print(x>3)\n",
    "print(x[x>3])\n",
    "\n"
   ]
  },
  {
   "cell_type": "code",
   "execution_count": 36,
   "metadata": {},
   "outputs": [
    {
     "output_type": "execute_result",
     "data": {
      "text/plain": [
       "array([[ 0.23776425, -1.40777031],\n",
       "       [-0.46054247,  0.49819585],\n",
       "       [ 1.0328728 , -0.47308017],\n",
       "       [-1.86349063, -0.10585146],\n",
       "       [ 0.22240327,  1.95244091],\n",
       "       [-0.44429165,  0.66132506],\n",
       "       [ 0.39564736,  0.14678605],\n",
       "       [ 0.14878296, -0.625336  ],\n",
       "       [-0.40019462,  1.16749128],\n",
       "       [-0.52960361, -0.94622215]])"
      ]
     },
     "metadata": {},
     "execution_count": 36
    }
   ],
   "source": [
    "np.random.rand(10,2)# “0~1”均匀分布的随机样本值。随机样本取值范围是[0,1)，不包括1。\n",
    "np.random.randn(10,2)# 标准只正态分布 由 np.random.randn()函数所产生的随机样本基本上取值主要在-1.96~+1.96之"
   ]
  },
  {
   "source": [
    "## 2 矩阵 （二维数组）"
   ],
   "cell_type": "markdown",
   "metadata": {}
  },
  {
   "cell_type": "code",
   "execution_count": null,
   "metadata": {},
   "outputs": [],
   "source": []
  },
  {
   "source": [
    "## 3 三维与更高维数组"
   ],
   "cell_type": "markdown",
   "metadata": {}
  },
  {
   "cell_type": "code",
   "execution_count": null,
   "metadata": {},
   "outputs": [],
   "source": []
  }
 ]
}