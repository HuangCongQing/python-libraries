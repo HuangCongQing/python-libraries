{
 "cells": [
  {
   "cell_type": "markdown",
   "metadata": {},
   "source": [
    "# L1,L2计算\n",
    "\n",
    "## “曼哈顿距离”(L1范数)\n",
    "https://blog.csdn.net/dear_zhoubi/article/details/97391925\n",
    "\n",
    "## \n",
    "欧几里得距离 == 欧几里得范数 == L2范数 == L2距离\n",
    "\n",
    "Euclidean distance == Euclidean norm == L2 norm == L2 distance\n",
    "https://blog.csdn.net/weixin_43708622/article/details/111143389"
   ]
  },
  {
   "cell_type": "code",
   "execution_count": 3,
   "metadata": {},
   "outputs": [
    {
     "name": "stdout",
     "output_type": "stream",
     "text": [
      "9\n",
      "5.196152422706632\n",
      "5.196152422706632\n"
     ]
    }
   ],
   "source": [
    "import numpy as np\n",
    "\n",
    "# 向量\n",
    "vector1 = np.array([1,2,3])\n",
    "vector2 = np.array([4,5,6])\n",
    "\n",
    "# L1\n",
    "vector1 = np.array([1,2,3])\n",
    "vector2 = np.array([4,5,6])\n",
    " \n",
    "op3=np.sum(np.abs(vector1-vector2))\n",
    "op4=np.linalg.norm(vector1-vector2,ord=1)\n",
    "print(op3)\n",
    "#输出\n",
    "#9\n",
    "#9.0\n",
    "\n",
    "\n",
    "# L2\n",
    "op1=np.sqrt(np.sum(np.square(vector1-vector2)))\n",
    "op2=np.linalg.norm(vector1-vector2)\n",
    "print(op1)\n",
    "print(op2)\n",
    "#输出:\n",
    "#5.19615242271\n",
    "#5.19615242271"
   ]
  },
  {
   "cell_type": "code",
   "execution_count": null,
   "metadata": {},
   "outputs": [],
   "source": []
  },
  {
   "cell_type": "markdown",
   "metadata": {},
   "source": [
    "## numpy 三个点的使用[...]  多维切片\n",
    "https://blog.csdn.net/weixin_33752045/article/details/94051330\n",
    "https://www.cnblogs.com/double-t/p/11067950.html\n",
    "\n",
    "\n",
    "numpy数组中冒号[:,:,0]与[...,0]的区别： https://blog.csdn.net/weixin_37552816/article/details/89285235"
   ]
  },
  {
   "cell_type": "code",
   "execution_count": 13,
   "metadata": {},
   "outputs": [
    {
     "name": "stdout",
     "output_type": "stream",
     "text": [
      "(4, 5)\n",
      "[3 8 3 8] (4,)\n",
      "[3 8 3 8] (4,)\n"
     ]
    }
   ],
   "source": [
    "import numpy as np \n",
    "a = np.array([  [1,2,3,4,5],\n",
    "                [6,7,8,9,10],\n",
    "                [1,2,3,4,5],\n",
    "                [6,7,8,9,10]\n",
    "             ]) # \n",
    "print(a.shape) # 4行5列\n",
    "print(a[:,2], a[:,2].shape) # 注意区别\n",
    "print(a[...,2], a[...,2].shape) #表示遍历每行，2表示索引为2的所在列"
   ]
  },
  {
   "cell_type": "code",
   "execution_count": 7,
   "metadata": {},
   "outputs": [
    {
     "data": {
      "text/plain": [
       "array([[1, 2],\n",
       "       [6, 7],\n",
       "       [1, 2],\n",
       "       [6, 7]])"
      ]
     },
     "execution_count": 7,
     "metadata": {},
     "output_type": "execute_result"
    }
   ],
   "source": [
    "\n",
    "a[...,:2]#表示遍历每行，:2表示索引为<2的0，1所在的列"
   ]
  },
  {
   "cell_type": "code",
   "execution_count": 15,
   "metadata": {},
   "outputs": [
    {
     "data": {
      "text/plain": [
       "array([[ 1,  3,  5],\n",
       "       [ 6,  8, 10],\n",
       "       [ 1,  3,  5],\n",
       "       [ 6,  8, 10]])"
      ]
     },
     "execution_count": 15,
     "metadata": {},
     "output_type": "execute_result"
    }
   ],
   "source": [
    "a[...,::2]#表示遍历每行，2表示步长，选取多索引为0，2，4所在的列"
   ]
  },
  {
   "cell_type": "code",
   "execution_count": 21,
   "metadata": {},
   "outputs": [
    {
     "name": "stdout",
     "output_type": "stream",
     "text": [
      "[[[[ 1  2  3  4  5]\n",
      "   [ 6  7  8  9 10]\n",
      "   [ 1  2  3  4  5]\n",
      "   [ 6  7  8  9 10]]]]\n",
      "[[[ 1  2  3  4  5]\n",
      "  [ 6  7  8  9 10]\n",
      "  [ 1  2  3  4  5]\n",
      "  [ 6  7  8  9 10]]]\n"
     ]
    }
   ],
   "source": [
    "\n",
    "print(a[None,...])#相当于插入维度，也想当于reshape(a,[1,4,4])\n",
    "a = a.reshape(1,4,5)\n",
    "print(a)"
   ]
  },
  {
   "cell_type": "code",
   "execution_count": 24,
   "metadata": {},
   "outputs": [
    {
     "name": "stdout",
     "output_type": "stream",
     "text": [
      "(1, 3, 2)\n"
     ]
    },
    {
     "data": {
      "text/plain": [
       "array([[[1, 2],\n",
       "        [2, 3],\n",
       "        [3, 4]]])"
      ]
     },
     "execution_count": 24,
     "metadata": {},
     "output_type": "execute_result"
    }
   ],
   "source": [
    "import numpy as np\n",
    "out = np.array([[[1,2],[2,3],[3,4]]])\n",
    "print(out.shape)\n",
    "out"
   ]
  },
  {
   "cell_type": "code",
   "execution_count": 27,
   "metadata": {},
   "outputs": [
    {
     "name": "stdout",
     "output_type": "stream",
     "text": [
      "[[1 2]]\n",
      "[[1 2 3]]\n",
      "[[2 3 4]]\n"
     ]
    }
   ],
   "source": [
    "print(out[:,0]) # 等同于out[:,0,:]\n",
    "print(out[...,0])\n",
    "print(out[...,1])"
   ]
  },
  {
   "cell_type": "markdown",
   "metadata": {},
   "source": [
    "### 三个点和冒号两个点的区别\n",
    "https://blog.csdn.net/w666665/article/details/117478602"
   ]
  },
  {
   "cell_type": "code",
   "execution_count": 30,
   "metadata": {},
   "outputs": [
    {
     "name": "stdout",
     "output_type": "stream",
     "text": [
      "[[[0 1]\n",
      "  [2 3]]\n",
      "\n",
      " [[4 5]\n",
      "  [6 7]]]\n",
      "=========================\n",
      "[[0 1]\n",
      " [2 3]]\n",
      "[[0 1]\n",
      " [2 3]]\n",
      "[[0 1]\n",
      " [4 5]]\n",
      "[[0 2]\n",
      " [4 6]] [[0 2]\n",
      " [4 6]]\n"
     ]
    }
   ],
   "source": [
    "import numpy as np\n",
    "\n",
    "a = np.arange(8).reshape((2, 2, 2))\n",
    "print(a)\n",
    "print(\"=========================\")\n",
    "print(a[0, :])\n",
    "print(a[0, ...])\n",
    "print(a[:, 0]) # 等同于a[:,0,:]\n",
    "print(a[..., 0]) # 等同于a[:,:,0]"
   ]
  },
  {
   "cell_type": "code",
   "execution_count": null,
   "metadata": {},
   "outputs": [],
   "source": []
  }
 ],
 "metadata": {
  "kernelspec": {
   "display_name": "Python 3.8.13 ('pcdet')",
   "language": "python",
   "name": "python3"
  },
  "language_info": {
   "codemirror_mode": {
    "name": "ipython",
    "version": 3
   },
   "file_extension": ".py",
   "mimetype": "text/x-python",
   "name": "python",
   "nbconvert_exporter": "python",
   "pygments_lexer": "ipython3",
   "version": "3.8.13"
  },
  "orig_nbformat": 4,
  "vscode": {
   "interpreter": {
    "hash": "4a4bb52955cb4b7ba3167560f52fbe8257746766a280283c0daccbe36f0c9125"
   }
  }
 },
 "nbformat": 4,
 "nbformat_minor": 2
}
