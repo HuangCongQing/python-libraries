{
 "cells": [
  {
   "cell_type": "markdown",
   "metadata": {},
   "source": [
    "# L1,L2计算\n",
    "\n",
    "## “曼哈顿距离”(L1范数)\n",
    "https://blog.csdn.net/dear_zhoubi/article/details/97391925\n",
    "\n",
    "## \n",
    "欧几里得距离 == 欧几里得范数 == L2范数 == L2距离\n",
    "\n",
    "Euclidean distance == Euclidean norm == L2 norm == L2 distance\n",
    "https://blog.csdn.net/weixin_43708622/article/details/111143389"
   ]
  },
  {
   "cell_type": "code",
   "execution_count": 3,
   "metadata": {},
   "outputs": [
    {
     "name": "stdout",
     "output_type": "stream",
     "text": [
      "9\n",
      "5.196152422706632\n",
      "5.196152422706632\n"
     ]
    }
   ],
   "source": [
    "import numpy as np\n",
    "\n",
    "# 向量\n",
    "vector1 = np.array([1,2,3])\n",
    "vector2 = np.array([4,5,6])\n",
    "\n",
    "# L1\n",
    "vector1 = np.array([1,2,3])\n",
    "vector2 = np.array([4,5,6])\n",
    " \n",
    "op3=np.sum(np.abs(vector1-vector2))\n",
    "op4=np.linalg.norm(vector1-vector2,ord=1)\n",
    "print(op3)\n",
    "#输出\n",
    "#9\n",
    "#9.0\n",
    "\n",
    "\n",
    "# L2\n",
    "op1=np.sqrt(np.sum(np.square(vector1-vector2)))\n",
    "op2=np.linalg.norm(vector1-vector2)\n",
    "print(op1)\n",
    "print(op2)\n",
    "#输出:\n",
    "#5.19615242271\n",
    "#5.19615242271"
   ]
  },
  {
   "cell_type": "code",
   "execution_count": null,
   "metadata": {},
   "outputs": [],
   "source": []
  }
 ],
 "metadata": {
  "kernelspec": {
   "display_name": "Python 3.8.13 ('pcdet')",
   "language": "python",
   "name": "python3"
  },
  "language_info": {
   "codemirror_mode": {
    "name": "ipython",
    "version": 3
   },
   "file_extension": ".py",
   "mimetype": "text/x-python",
   "name": "python",
   "nbconvert_exporter": "python",
   "pygments_lexer": "ipython3",
   "version": "3.8.13"
  },
  "orig_nbformat": 4,
  "vscode": {
   "interpreter": {
    "hash": "4a4bb52955cb4b7ba3167560f52fbe8257746766a280283c0daccbe36f0c9125"
   }
  }
 },
 "nbformat": 4,
 "nbformat_minor": 2
}
