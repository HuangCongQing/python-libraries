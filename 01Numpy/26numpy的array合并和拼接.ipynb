{
 "cells": [
  {
   "cell_type": "markdown",
   "metadata": {},
   "source": [
    "## 总结\n",
    "Python中numpy数组的合并有很多方法，如\n",
    "\n",
    "np.append()\n",
    "np.concatenate()\n",
    "np.stack()\n",
    "np.hstack()\n",
    "np.vstack()"
   ]
  },
  {
   "cell_type": "code",
   "execution_count": 2,
   "metadata": {},
   "outputs": [],
   "source": [
    "import numpy as np"
   ]
  },
  {
   "cell_type": "code",
   "execution_count": 3,
   "metadata": {},
   "outputs": [
    {
     "name": "stdout",
     "output_type": "stream",
     "text": [
      "A: [1 1 1]\n"
     ]
    }
   ],
   "source": [
    "A =np.array([1,1,1])\n",
    "B =np.array([2,2,2])\n",
    "print('A:',A)\n",
    "C = np.vstack((A,B)) # \n",
    "D = np.hstack((A,B)) #"
   ]
  },
  {
   "cell_type": "markdown",
   "metadata": {},
   "source": [
    "## 1 【维度不变】拼接np.stack, np.vstack(0维), np.hstack(1维/最后一维列)\n",
    "* np.vstack((A,B)) 上下合并\n",
    "* np.hstack((A,B)) z左右合并\n",
    "\n",
    "\n",
    "### np.stack() 需要琢磨 在某个维度对应彼此合并\n",
    "axis=0是把原来的元素按照横轴的方式排列，axis=1是把原先元素按照纵轴排列"
   ]
  },
  {
   "cell_type": "code",
   "execution_count": 12,
   "metadata": {},
   "outputs": [
    {
     "data": {
      "text/plain": [
       "array([[1, 4],\n",
       "       [2, 5],\n",
       "       [3, 6]])"
      ]
     },
     "execution_count": 12,
     "metadata": {},
     "output_type": "execute_result"
    }
   ],
   "source": [
    "\n",
    "import numpy as np\n",
    " \n",
    "# stack()是按照不同轴的堆叠方式重新堆叠数组\n",
    " \n",
    "a=np.array([[1,2,3],\n",
    "            [4,5,6]])\n",
    " \n",
    "np.stack(a,axis=0)\n",
    "# array([[1, 2, 3],\n",
    "#       [4, 5, 6]])\n",
    " \n",
    "np.stack(a,axis=1)\n",
    "# array([[1, 4],\n",
    "#       [2, 5],\n",
    "#       [3, 6]])\n",
    " \n",
    "#可以看出axis=0是把原来的元素按照横轴的方式排列，axis=1是把原先元素按照纵轴排列\n"
   ]
  },
  {
   "cell_type": "markdown",
   "metadata": {},
   "source": [
    "###  np.vstack(0维), np.hstack(1维/最后一维列)"
   ]
  },
  {
   "cell_type": "code",
   "execution_count": 6,
   "metadata": {},
   "outputs": [
    {
     "name": "stdout",
     "output_type": "stream",
     "text": [
      "[1 2 3 4 5 6]\n",
      "[[1 2 3]\n",
      " [4 5 6]]\n"
     ]
    }
   ],
   "source": [
    "a=[1,2,3]\n",
    " \n",
    "b=[4,5,6]\n",
    " \n",
    "print(np.hstack((a,b)))\n",
    "#array([1, 2, 3, 4, 5, 6])\n",
    " \n",
    "print(np.vstack((a,b)))\n",
    "#array([[1, 2, 3],\n",
    "#       [4, 5, 6]])\n"
   ]
  },
  {
   "cell_type": "markdown",
   "metadata": {},
   "source": [
    "###  np.concatenate((A, B), axis=0) 能够一次完成多个数组的拼接。  类似torch.cat  (Pytorch_API/tensor数据处理torch_with_numpy.ipynb)\n",
    "\n",
    "* 合并多个，np.concatenate((A,B,B,A), axis=0)\n",
    "\n",
    "\n",
    "根据官方的说法，\n",
    "* 1表示横轴，方向从左到右；0表示纵轴，方向从上到下。\n",
    "* 当axis=1时，数组的变化是横向的，而体现出来的是列的增加或者减少。\n",
    "\n"
   ]
  },
  {
   "cell_type": "code",
   "execution_count": 30,
   "metadata": {},
   "outputs": [
    {
     "name": "stdout",
     "output_type": "stream",
     "text": [
      "[[ 1  2  3]\n",
      " [ 1  2  3]\n",
      " [11 22 33]\n",
      " [11 22 33]]\n",
      "[[ 1  2  3 11 22 33]\n",
      " [ 1  2  3 11 22 33]]\n"
     ]
    }
   ],
   "source": [
    "a=np.array([[1,2,3],\n",
    "            [1,2,3]])\n",
    "b=np.array([[11,22,33],\n",
    "            [11,22,33]])\n",
    "\n",
    "print(np.concatenate((a,b) ,axis=0))\n",
    "print(np.concatenate((a,b) ,axis=-1)) #！！！！！！！！！！！！！！！！！！"
   ]
  },
  {
   "cell_type": "markdown",
   "metadata": {},
   "source": [
    "## 增加维度\n",
    "https://blog.csdn.net/weixin_39059031/article/details/108037744\n",
    "\n",
    "### 1 np.newaxis：关键字，使用索引的语法给数组添加维度\n",
    "### 2 np.expand_dims(arr, axis)：方法，和np.newaxis实现一样的功能，给arr在axis位置添加维度\n",
    "### 3 np.reshape(a, newshape)：方法，给一个维度设置为1完成升维\n",
    "\n",
    "\n",
    "\n",
    "a[:,np.newaxis]\n",
    "* 横向数列变为纵向数列 A.T不行\n",
    "a[np.newaxas,:]横向加了一个维度\n",
    "a[:,np.newaxis]纵向加了一个维度"
   ]
  },
  {
   "cell_type": "code",
   "execution_count": 20,
   "metadata": {},
   "outputs": [
    {
     "name": "stdout",
     "output_type": "stream",
     "text": [
      "(2, 3)\n",
      "(1, 2, 3)\n",
      "(2, 1, 3)\n",
      "(2, 3, 1)\n"
     ]
    }
   ],
   "source": [
    "# ### 1 np.newaxis：关键字，使用索引的语法给数组添加维度\n",
    "\n",
    "a = np.arange(6).reshape(2,3)\n",
    "print(a.shape)\n",
    "\n",
    "print(a[np.newaxis,:].shape) #前面增加一维度 (1,4,3)\n",
    "print(a[:,np.newaxis].shape) # 中间增加1维度\n",
    "print(a[:,:,np.newaxis].shape) # 最后增加1维度"
   ]
  },
  {
   "cell_type": "code",
   "execution_count": 24,
   "metadata": {},
   "outputs": [
    {
     "name": "stdout",
     "output_type": "stream",
     "text": [
      "(1, 2, 3)\n"
     ]
    }
   ],
   "source": [
    "### 2 np.expand_dims(arr, axis)：方法，和np.newaxis实现一样的功能，给arr在axis位置添加维度\n",
    "\n",
    "\n",
    "a = np.arange(6).reshape(2,3)\n",
    "print(np.expand_dims(a, axis=0).shape)"
   ]
  },
  {
   "cell_type": "code",
   "execution_count": 25,
   "metadata": {},
   "outputs": [
    {
     "name": "stdout",
     "output_type": "stream",
     "text": [
      "(1, 2, 3)\n"
     ]
    }
   ],
   "source": [
    "### 3 np.reshape(a, newshape)：方法，给一个维度设置为1完成升维\n",
    "\n",
    "\n",
    "a = np.arange(6).reshape(2,3)\n",
    "print(a.reshape(-1,2,3).shape) # 开头增加一个维度"
   ]
  },
  {
   "cell_type": "code",
   "execution_count": null,
   "metadata": {},
   "outputs": [],
   "source": [
    "## TODO "
   ]
  }
 ],
 "metadata": {
  "interpreter": {
   "hash": "34e39c63690641fda45a9b5b3a54295d3c7c7609e6d639cc54d178959f811fe3"
  },
  "kernelspec": {
   "display_name": "Python 3.8.13 ('pcdet')",
   "language": "python",
   "name": "python3"
  },
  "language_info": {
   "codemirror_mode": {
    "name": "ipython",
    "version": 3
   },
   "file_extension": ".py",
   "mimetype": "text/x-python",
   "name": "python",
   "nbconvert_exporter": "python",
   "pygments_lexer": "ipython3",
   "version": "3.8.13"
  }
 },
 "nbformat": 4,
 "nbformat_minor": 2
}
