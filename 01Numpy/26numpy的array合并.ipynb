{
 "cells": [
  {
   "cell_type": "code",
   "execution_count": 2,
   "metadata": {},
   "outputs": [],
   "source": [
    "import numpy as np"
   ]
  },
  {
   "cell_type": "code",
   "execution_count": 22,
   "metadata": {},
   "outputs": [
    {
     "name": "stdout",
     "output_type": "stream",
     "text": [
      "A: [1 1 1]\n"
     ]
    }
   ],
   "source": [
    "A =np.array([1,1,1])\n",
    "B =np.array([2,2,2])\n",
    "print('A:',A)\n",
    "C = np.vstack((A,B)) # \n",
    "D = np.hstack((A,B)) #"
   ]
  },
  {
   "cell_type": "markdown",
   "metadata": {},
   "source": [
    "* np.vstack((A,B) 上下合并\n",
    "* np.hstack((A,B)) z左右合并"
   ]
  },
  {
   "cell_type": "code",
   "execution_count": 13,
   "metadata": {},
   "outputs": [
    {
     "name": "stdout",
     "output_type": "stream",
     "text": [
      "C: [[1 1 1]\n",
      " [2 2 2]]\n",
      "D: [1 1 1 2 2 2]\n",
      "(3,) (2, 3) (6,)\n"
     ]
    }
   ],
   "source": [
    "print('C:',np.vstack((A,B)))\n",
    "print('D:',np.hstack((A,B)))\n",
    "print(A.shape,C.shape,D.shape)"
   ]
  },
  {
   "cell_type": "markdown",
   "metadata": {},
   "source": [
    "* 横向数列变为纵向数列 A.T不行\n",
    "A[np.newaxis,:]横向加了一个维度\n",
    "A[:,np.newaxis]纵向加了一个维度"
   ]
  },
  {
   "cell_type": "code",
   "execution_count": 16,
   "metadata": {},
   "outputs": [
    {
     "name": "stdout",
     "output_type": "stream",
     "text": [
      "[[1 1 1]]\n",
      "(1, 3)\n",
      "[[1]\n",
      " [1]\n",
      " [1]]\n"
     ]
    }
   ],
   "source": [
    "print(A[np.newaxis,:])\n",
    "print(A[np.newaxis,:].shape)\n",
    "print(A[:,np.newaxis])"
   ]
  },
  {
   "cell_type": "markdown",
   "metadata": {},
   "source": [
    "* 合并多个，np.concatenate((A,B,B,A), axis=0)\n",
    "\n",
    "\n",
    "根据官方的说法，\n",
    "* 1表示横轴，方向从左到右；0表示纵轴，方向从上到下。\n",
    "* 当axis=1时，数组的变化是横向的，而体现出来的是列的增加或者减少。\n",
    "\n"
   ]
  },
  {
   "cell_type": "code",
   "execution_count": 21,
   "metadata": {},
   "outputs": [
    {
     "name": "stdout",
     "output_type": "stream",
     "text": [
      "[[1]\n",
      " [1]\n",
      " [1]\n",
      " [2]\n",
      " [2]\n",
      " [2]\n",
      " [2]\n",
      " [2]\n",
      " [2]\n",
      " [1]\n",
      " [1]\n",
      " [1]]\n",
      "[[1 2 2 1]\n",
      " [1 2 2 1]\n",
      " [1 2 2 1]]\n"
     ]
    }
   ],
   "source": [
    "A =np.array([1,1,1])[:, np.newaxis]\n",
    "B =np.array([2,2,2])[:, np.newaxis]\n",
    "C =np.concatenate((A,B,B,A),axis=0) #纵向合并\n",
    "print(C)\n",
    "C =np.concatenate((A,B,B,A), axis=1) #横向合并\n",
    "print(C)\n"
   ]
  },
  {
   "cell_type": "code",
   "execution_count": null,
   "metadata": {},
   "outputs": [],
   "source": []
  }
 ],
 "metadata": {
  "kernelspec": {
   "display_name": "Python 3",
   "language": "python",
   "name": "python3"
  },
  "language_info": {
   "codemirror_mode": {
    "name": "ipython",
    "version": 3
   },
   "file_extension": ".py",
   "mimetype": "text/x-python",
   "name": "python",
   "nbconvert_exporter": "python",
   "pygments_lexer": "ipython3",
   "version": "3.5.4"
  }
 },
 "nbformat": 4,
 "nbformat_minor": 2
}
