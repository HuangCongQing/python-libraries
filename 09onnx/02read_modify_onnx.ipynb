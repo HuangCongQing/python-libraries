{
 "cells": [
  {
   "cell_type": "markdown",
   "metadata": {},
   "source": []
  },
  {
   "cell_type": "markdown",
   "metadata": {},
   "source": [
    "## onnx.load 读取 ONNX"
   ]
  },
  {
   "cell_type": "code",
   "execution_count": null,
   "metadata": {},
   "outputs": [],
   "source": [
    "import onnx \n",
    "model = onnx.load('linear_func.onnx') \n",
    "print(model) "
   ]
  },
  {
   "cell_type": "markdown",
   "metadata": {},
   "source": [
    "## 图 GraphProto、节点 NodeProto、张量信息 ValueInfoProto 读取出来\n",
    "我们传给 onnx.save 的是一个 ModelProto 的对象。同理，用上面的 onnx.load 读取 ONNX 模型时，我们收获的也是一个 ModelProto 的对象。输出这个对象后，我们应该得到和之前完全相同的输出。\n",
    "接下来，我们来看看怎么把图 GraphProto、节点 NodeProto、张量信息 ValueInfoProto 读取出来："
   ]
  },
  {
   "cell_type": "markdown",
   "metadata": {},
   "source": []
  },
  {
   "cell_type": "code",
   "execution_count": 6,
   "metadata": {},
   "outputs": [
    {
     "name": "stdout",
     "output_type": "stream",
     "text": [
      "node: [input: \"a\"\n",
      "input: \"x\"\n",
      "output: \"c\"\n",
      "op_type: \"Mul\"\n",
      ", input: \"c\"\n",
      "input: \"b\"\n",
      "output: \"output\"\n",
      "op_type: \"Add\"\n",
      "]\n",
      "node[0]: input: \"a\"\n",
      "input: \"x\"\n",
      "output: \"c\"\n",
      "op_type: \"Mul\"\n",
      "\n"
     ]
    }
   ],
   "source": [
    "graph = model.graph \n",
    "node = graph.node \n",
    "input = graph.input \n",
    "output = graph.output \n",
    "print(\"node:\", node)  # 列表形式  Mul  和 Add 2个\n",
    "print(\"node[0]:\", node[0]) \n",
    "# print(\"input:\", input) \n",
    "# print(\"output:\", output) "
   ]
  },
  {
   "cell_type": "markdown",
   "metadata": {},
   "source": [
    "## 获取 node 里第一个节点 Mul 的属性\n",
    "在这段输出中，我们能看出 node 其实就是一个列表，列表中的对象有属性 input, output, op_type（这里 input 也是一个列表，它包含的两个元素都显示出来了）。我们可以用下面的代码来**获取 node 里第一个节点 Mul 的属性**："
   ]
  },
  {
   "cell_type": "code",
   "execution_count": 8,
   "metadata": {},
   "outputs": [
    {
     "name": "stdout",
     "output_type": "stream",
     "text": [
      "a\n",
      "x\n",
      "c\n",
      "Mul\n"
     ]
    }
   ],
   "source": [
    "node_0 = node[0] \n",
    "node_0_inputs = node_0.input \n",
    "node_0_outputs = node_0.output \n",
    "input_0 = node_0_inputs[0] \n",
    "input_1 = node_0_inputs[1] \n",
    "output = node_0_outputs[0] \n",
    "op_type = node_0.op_type \n",
    " \n",
    "print(input_0) \n",
    "print(input_1) \n",
    "print(output) \n",
    "print(op_type) \n",
    " \n",
    "# Output "
   ]
  },
  {
   "cell_type": "markdown",
   "metadata": {},
   "source": [
    "## 修改模型属性\n",
    "当我们想知道 ONNX 模型某数据对象有哪些属性时，我们不必去翻 ONNX 文档，只需要先把数据对象输出一下，然后在输出结果找出属性名即可。\n",
    "读取 ONNX 模型的信息后，修改 ONNX 模型就是一件很轻松的事了。我们既可以按照上一小节的模型构造方法，新建节点和张量信息，与原有模型组合成一个新的模型，也可以在不违反 ONNX 规范的前提下直接修改某个数据对象的属性。\n",
    "这里我们来看一个直接修改模型属性的例子：\n",
    "```\n",
    "在读入之前的 linear_func.onnx 模型后，我们可以直接修改第二个节点的类型 node[1].op_type，把加法变成减法。这样，我们的模型描述的是 a * x - b 这个线性函数。大家感兴趣的话，可以用 ONNX Runtime 运行新模型 linear_func_2.onnx，来验证一下它和 a * x - b 是否等价。\n",
    "```"
   ]
  },
  {
   "cell_type": "code",
   "execution_count": 9,
   "metadata": {},
   "outputs": [],
   "source": [
    "import onnx \n",
    "model = onnx.load('linear_func.onnx') \n",
    " \n",
    "node = model.graph.node \n",
    "node[1].op_type = 'Sub' \n",
    " \n",
    "onnx.checker.check_model(model) \n",
    "onnx.save(model, 'linear_func_2.onnx') "
   ]
  },
  {
   "cell_type": "code",
   "execution_count": null,
   "metadata": {},
   "outputs": [],
   "source": []
  },
  {
   "cell_type": "code",
   "execution_count": null,
   "metadata": {},
   "outputs": [],
   "source": []
  },
  {
   "cell_type": "code",
   "execution_count": null,
   "metadata": {},
   "outputs": [],
   "source": []
  }
 ],
 "metadata": {
  "kernelspec": {
   "display_name": "Python 3.8.13 ('waymo_38')",
   "language": "python",
   "name": "python3"
  },
  "language_info": {
   "codemirror_mode": {
    "name": "ipython",
    "version": 3
   },
   "file_extension": ".py",
   "mimetype": "text/x-python",
   "name": "python",
   "nbconvert_exporter": "python",
   "pygments_lexer": "ipython3",
   "version": "3.8.13"
  },
  "orig_nbformat": 4,
  "vscode": {
   "interpreter": {
    "hash": "44c80fdca727e273b3b1fdcfb86e5664b0451e88fa74e3d1ad2cb050c7994d10"
   }
  }
 },
 "nbformat": 4,
 "nbformat_minor": 2
}
