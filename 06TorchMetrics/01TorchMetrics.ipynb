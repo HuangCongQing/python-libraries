{
 "cells": [
  {
   "cell_type": "markdown",
   "metadata": {},
   "source": [
    "https://www.yuque.com/huangzhongqing/lang/de9yi8\n",
    "\n",
    "\n"
   ]
  },
  {
   "cell_type": "markdown",
   "metadata": {},
   "source": [
    "## Accurancy(acc)\n",
    "torchmetrics.Accuracy(threshold=0.5, num_classes=None, average='micro', mdmc_average=None, ignore_index=None, top_k=None, multiclass=None, subset_accuracy=False, **kwargs)\n",
    "\n",
    "https://torchmetrics.readthedocs.io/en/stable/classification/accuracy.html"
   ]
  },
  {
   "cell_type": "code",
   "execution_count": 11,
   "metadata": {},
   "outputs": [
    {
     "name": "stdout",
     "output_type": "stream",
     "text": [
      "tensor(0.5000)\n"
     ]
    }
   ],
   "source": [
    "import torch\n",
    "from torchmetrics import Accuracy\n",
    "target = torch.tensor([0, 1, 2, 3])\n",
    "preds = torch.tensor([0, 2, 1, 3])\n",
    "accuracy = Accuracy(num_classes=23)\n",
    "print(accuracy(preds, target))\n",
    "# tensor(0.5000)\n"
   ]
  },
  {
   "cell_type": "code",
   "execution_count": 6,
   "metadata": {},
   "outputs": [
    {
     "name": "stdout",
     "output_type": "stream",
     "text": [
      "tensor(0.)\n"
     ]
    }
   ],
   "source": [
    "target = torch.tensor([0, 1, 2])\n",
    "preds = torch.tensor([[0.1, 0.9, 0], [0.3, 0.1, 0.6], [0.2, 0.5, 0.3]])\n",
    "print(accuracy(preds, target))"
   ]
  },
  {
   "cell_type": "markdown",
   "metadata": {},
   "source": [
    "## Recall\n",
    "\n",
    "https://torchmetrics.readthedocs.io/en/stable/classification/recall.html"
   ]
  },
  {
   "cell_type": "code",
   "execution_count": 7,
   "metadata": {},
   "outputs": [
    {
     "name": "stdout",
     "output_type": "stream",
     "text": [
      "tensor(0.3333)\n",
      "tensor(0.2500)\n"
     ]
    }
   ],
   "source": [
    "import torch\n",
    "from torchmetrics import Recall\n",
    "preds  = torch.tensor([2, 0, 2, 1])\n",
    "target = torch.tensor([1, 1, 2, 0])\n",
    "recall = Recall(average='macro', num_classes=3)\n",
    "print(recall(preds, target))\n",
    "# tensor(0.3333)\n",
    "recall = Recall(average='micro')\n",
    "print(recall(preds, target))\n",
    "# tensor(0.2500)"
   ]
  },
  {
   "cell_type": "markdown",
   "metadata": {},
   "source": [
    "## Precision\n",
    "https://torchmetrics.readthedocs.io/en/stable/classification/precision.html"
   ]
  },
  {
   "cell_type": "code",
   "execution_count": 8,
   "metadata": {},
   "outputs": [
    {
     "name": "stdout",
     "output_type": "stream",
     "text": [
      "tensor(0.1667)\n",
      "tensor(0.2500)\n"
     ]
    }
   ],
   "source": [
    "import torch\n",
    "from torchmetrics import Precision\n",
    "preds  = torch.tensor([2, 0, 2, 1])\n",
    "target = torch.tensor([1, 1, 2, 0])\n",
    "precision = Precision(average='macro', num_classes=3)\n",
    "print(precision(preds, target))\n",
    "# tensor(0.1667)\n",
    "precision = Precision(average='micro')\n",
    "print(precision(preds, target))\n",
    "# tensor(0.2500)"
   ]
  },
  {
   "cell_type": "markdown",
   "metadata": {},
   "source": [
    "## mAp\n",
    "https://torchmetrics.readthedocs.io/en/stable/detection/mean_average_precision.html"
   ]
  },
  {
   "cell_type": "code",
   "execution_count": 12,
   "metadata": {},
   "outputs": [
    {
     "name": "stdout",
     "output_type": "stream",
     "text": [
      "{'map': tensor(0.6000),\n",
      " 'map_50': tensor(1.),\n",
      " 'map_75': tensor(1.),\n",
      " 'map_large': tensor(0.6000),\n",
      " 'map_medium': tensor(-1.),\n",
      " 'map_per_class': tensor(-1.),\n",
      " 'map_small': tensor(-1.),\n",
      " 'mar_1': tensor(0.6000),\n",
      " 'mar_10': tensor(0.6000),\n",
      " 'mar_100': tensor(0.6000),\n",
      " 'mar_100_per_class': tensor(-1.),\n",
      " 'mar_large': tensor(0.6000),\n",
      " 'mar_medium': tensor(-1.),\n",
      " 'mar_small': tensor(-1.)}\n"
     ]
    }
   ],
   "source": [
    "import torch\n",
    "from torchmetrics.detection.mean_ap import MeanAveragePrecision\n",
    "preds = [\n",
    "   dict(\n",
    "     boxes=torch.tensor([[258.0, 41.0, 606.0, 285.0]]),\n",
    "     scores=torch.tensor([0.536]),\n",
    "     labels=torch.tensor([0]),\n",
    "   )\n",
    " ]\n",
    "target = [\n",
    "   dict(\n",
    "     boxes=torch.tensor([[214.0, 41.0, 562.0, 285.0]]),\n",
    "     labels=torch.tensor([0]),\n",
    "   )\n",
    " ]\n",
    "metric = MeanAveragePrecision()\n",
    "metric.update(preds, target)\n",
    "from pprint import pprint\n",
    "pprint(metric.compute())\n",
    "# {'map': tensor(0.6000),\n",
    "#  'map_50': tensor(1.),\n",
    "#  'map_75': tensor(1.),\n",
    "#  'map_large': tensor(0.6000),\n",
    "#  'map_medium': tensor(-1.),\n",
    "#  'map_per_class': tensor(-1.),\n",
    "#  'map_small': tensor(-1.),\n",
    "#  'mar_1': tensor(0.6000),\n",
    "#  'mar_10': tensor(0.6000),\n",
    "#  'mar_100': tensor(0.6000),\n",
    "#  'mar_100_per_class': tensor(-1.),\n",
    "#  'mar_large': tensor(0.6000),\n",
    "#  'mar_medium': tensor(-1.),\n",
    "#  'mar_small': tensor(-1.)}"
   ]
  },
  {
   "cell_type": "code",
   "execution_count": null,
   "metadata": {},
   "outputs": [],
   "source": []
  }
 ],
 "metadata": {
  "interpreter": {
   "hash": "34e39c63690641fda45a9b5b3a54295d3c7c7609e6d639cc54d178959f811fe3"
  },
  "kernelspec": {
   "display_name": "Python 3.8.13 ('pcdet')",
   "language": "python",
   "name": "python3"
  },
  "language_info": {
   "codemirror_mode": {
    "name": "ipython",
    "version": 3
   },
   "file_extension": ".py",
   "mimetype": "text/x-python",
   "name": "python",
   "nbconvert_exporter": "python",
   "pygments_lexer": "ipython3",
   "version": "3.8.13"
  },
  "orig_nbformat": 4
 },
 "nbformat": 4,
 "nbformat_minor": 2
}
