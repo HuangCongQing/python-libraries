{
 "cells": [
  {
   "cell_type": "markdown",
   "metadata": {},
   "source": [
    "## 目录\n",
    "https://www.yuque.com/huangzhongqing/lang/dg0rbh\n",
    "\n",
    "* os\n",
    "* tempfile\n",
    "* glob"
   ]
  },
  {
   "cell_type": "code",
   "execution_count": null,
   "metadata": {},
   "outputs": [],
   "source": []
  },
  {
   "cell_type": "markdown",
   "metadata": {},
   "source": [
    "## tempfile临时文件夹"
   ]
  },
  {
   "cell_type": "code",
   "execution_count": 2,
   "metadata": {},
   "outputs": [
    {
     "name": "stdout",
     "output_type": "stream",
     "text": [
      "C:\\Users\\17562\\AppData\\Local\\Temp\\tmp56ahtemk\n"
     ]
    }
   ],
   "source": [
    "import tempfile\n",
    "save_tmp_dir = tempfile.TemporaryDirectory() #缓存文件夹~~\n",
    "waymo_results_save_dir = save_tmp_dir.name # 随机文件夹路径 # /tmp/tmpfdcgeplp\n",
    "print(waymo_results_save_dir)\n",
    "save_tmp_dir.cleanup() # 清除缓存文件夹~~"
   ]
  },
  {
   "cell_type": "code",
   "execution_count": null,
   "metadata": {},
   "outputs": [],
   "source": []
  }
 ],
 "metadata": {
  "kernelspec": {
   "display_name": "Python 3.9.7 ('base')",
   "language": "python",
   "name": "python3"
  },
  "language_info": {
   "codemirror_mode": {
    "name": "ipython",
    "version": 3
   },
   "file_extension": ".py",
   "mimetype": "text/x-python",
   "name": "python",
   "nbconvert_exporter": "python",
   "pygments_lexer": "ipython3",
   "version": "3.9.7"
  },
  "orig_nbformat": 4,
  "vscode": {
   "interpreter": {
    "hash": "88279d2366fe020547cde40dd65aa0e3aa662a6ec1f3ca12d88834876c85e1a6"
   }
  }
 },
 "nbformat": 4,
 "nbformat_minor": 2
}
