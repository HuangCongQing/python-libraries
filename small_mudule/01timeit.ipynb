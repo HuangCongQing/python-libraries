{
 "cells": [
  {
   "cell_type": "code",
   "execution_count": 1,
   "metadata": {},
   "outputs": [
    {
     "name": "stdout",
     "output_type": "stream",
     "text": [
      "insert_time_timeit:  0.7341042999999998\n",
      "append_time_timeit:  0.6199536000000001\n"
     ]
    }
   ],
   "source": [
    "'''\n",
    "Description: \n",
    "Author: HCQ\n",
    "Company(School): UCAS\n",
    "Email: 1756260160@qq.com\n",
    "Date: 2022-08-07 21:02:31\n",
    "LastEditTime: 2022-08-07 21:05:54\n",
    "FilePath: /python-libraries/small_mudule/timeit.py\n",
    "'''\n",
    "''' \n",
    "timeit(stmt=\"pass\", setup=\"pass\", timer=default_timer, number=default_number) 函数介绍\n",
    "\n",
    "timeit() 函数有四个参数，每个参数都是关键字参数，都有默认值。\n",
    "\n",
    "stmt：传入需要测试时间的代码，可以直接传入代码表达式或单个变量，也可以传入函数。传入函数时要在函数名后面加上小括号，让函数执行，如 stmt = ‘func()’  。\n",
    "\n",
    "setup：传入 stmt 的运行环境，如 stmt 中使用到的参数、变量，要导入的模块等，如 setup = ‘from __main__ import func’ (__main__表示当前的文件)。可以写一行语句，也可以写多行语句，写多行语句时用分号隔开。\n",
    "\n",
    "stmt 参数和 setup 参数默认值都是 pass，如果不传值，那么就失去了测试的意义，所以这两个参数是必要的。\n",
    "\n",
    "timer: timer 参数是当前操作系统的基本时间单位，默认会根据当前运行环境的操作系统自动获取(源码中已经定义)，保持默认即可。\n",
    "\n",
    "number：要测试的代码的运行次数，默认1000000(一百万)次，对于耗时的代码，运行太多次会花很多时间，可以自己修改运行次数。\n",
    "————————————————\n",
    "版权声明：本文为CSDN博主「小斌哥ge」的原创文章，遵循CC 4.0 BY-SA版权协议，转载请附上原文出处链接及本声明。\n",
    "原文链接：https://blog.csdn.net/weixin_43790276/article/details/103848054\n",
    " '''\n",
    "\n",
    "# coding=utf-8\n",
    "def insert_time_test():\n",
    "    insert_list = list()\n",
    "    for i in range(10):\n",
    "        insert_list.insert(0, i)\n",
    " \n",
    " \n",
    "def append_time_test():\n",
    "    append_list = list()\n",
    "    for i in range(10):\n",
    "        append_list.append(i)\n",
    " \n",
    " \n",
    "# if __name__ == '__main__':\n",
    "import timeit\n",
    "insert_time_timeit = timeit.timeit(stmt='insert_time_test()',\n",
    "                                    setup='from __main__ import insert_time_test')\n",
    "print('insert_time_timeit: ', insert_time_timeit)\n",
    "append_time_timeit = timeit.timeit(stmt='append_time_test()', \n",
    "                                    setup='from __main__ import append_time_test')\n",
    "print('append_time_timeit: ', append_time_timeit)"
   ]
  },
  {
   "cell_type": "code",
   "execution_count": null,
   "metadata": {},
   "outputs": [],
   "source": []
  }
 ],
 "metadata": {
  "kernelspec": {
   "display_name": "Python 3.9.7 ('base')",
   "language": "python",
   "name": "python3"
  },
  "language_info": {
   "codemirror_mode": {
    "name": "ipython",
    "version": 3
   },
   "file_extension": ".py",
   "mimetype": "text/x-python",
   "name": "python",
   "nbconvert_exporter": "python",
   "pygments_lexer": "ipython3",
   "version": "3.9.7"
  },
  "orig_nbformat": 4,
  "vscode": {
   "interpreter": {
    "hash": "88279d2366fe020547cde40dd65aa0e3aa662a6ec1f3ca12d88834876c85e1a6"
   }
  }
 },
 "nbformat": 4,
 "nbformat_minor": 2
}
