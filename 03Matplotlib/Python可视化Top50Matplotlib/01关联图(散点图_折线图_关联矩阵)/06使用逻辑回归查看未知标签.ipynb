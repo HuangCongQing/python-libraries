{
 "metadata": {
  "language_info": {
   "codemirror_mode": {
    "name": "ipython",
    "version": 3
   },
   "file_extension": ".py",
   "mimetype": "text/x-python",
   "name": "python",
   "nbconvert_exporter": "python",
   "pygments_lexer": "ipython3",
   "version": "3.6.12"
  },
  "orig_nbformat": 2,
  "kernelspec": {
   "name": "python361264bitcommoncondaa81e1824668348f78cb5fa8410e18e57",
   "display_name": "Python 3.6.12 64-bit ('common': conda)"
  },
  "metadata": {
   "interpreter": {
    "hash": "9e448ea22042ddd26567fb390bbbe4eeefe3b92c7642735c8d963670b078654d"
   }
  }
 },
 "nbformat": 4,
 "nbformat_minor": 2,
 "cells": [
  {
   "source": [
    "## 任务8： 【选学】1 散点图 (6)：使用逻辑回归探索未知标签\n",
    "\n",
    "\n",
    "\n",
    "https://www.bilibili.com/video/BV195411778a?p=7&spm_id_from=pageDriver"
   ],
   "cell_type": "markdown",
   "metadata": {}
  },
  {
   "cell_type": "code",
   "execution_count": 44,
   "metadata": {},
   "outputs": [
    {
     "output_type": "stream",
     "name": "stdout",
     "text": [
      "1.19.2\n",
      "1.1.5\n",
      "3.3.4\n",
      "0.11.1\n",
      "0      AAR\n",
      "1      LHR\n",
      "2      AAR\n",
      "3      ALU\n",
      "4      AAR\n",
      "      ... \n",
      "327    AAR\n",
      "328    AAR\n",
      "329    AAR\n",
      "330    AAR\n",
      "331    AAR\n",
      "Name: category, Length: 332, dtype: object\n"
     ]
    }
   ],
   "source": [
    "\n",
    "import numpy as np\n",
    "import pandas as pd\n",
    "import matplotlib as mpl\n",
    "import matplotlib.pyplot as plt  # 绘制二维图\n",
    "import seaborn as sns # \n",
    "%matplotlib inline  \n",
    "# 魔法命令\n",
    "#如果你在使用Jupyter Notebook，你会需要这样一句命令来让你的图像显示\n",
    "\n",
    "\n",
    "print(np.__version__)\n",
    "print(pd.__version__)\n",
    "print(mpl.__version__)\n",
    "print(sns.__version__)\n",
    "\n",
    "\n",
    "#导入数据\n",
    "midwest = pd.read_csv(\"https://raw.githubusercontent.com/selva86/datasets/master/midwest_filter.csv\")\n",
    "\n",
    "#提取标签中的类别\n",
    "print(midwest['category'])\n",
    "categories = np.unique(midwest['category']) # 去除所有重复的项目\n",
    "# print(categories) #这就是我们要使用的标签的类别列表"
   ]
  },
  {
   "cell_type": "code",
   "execution_count": 45,
   "metadata": {},
   "outputs": [
    {
     "output_type": "execute_result",
     "data": {
      "text/plain": [
       "AAR    186\n",
       "LAR     30\n",
       "LHR     27\n",
       "AAU     21\n",
       "AHR     16\n",
       "ALU     14\n",
       "ALR     11\n",
       "HLU     10\n",
       "HAR      6\n",
       "HAU      3\n",
       "LAU      3\n",
       "LHU      2\n",
       "HLR      2\n",
       "HHR      1\n",
       "Name: category, dtype: int64"
      ]
     },
     "metadata": {},
     "execution_count": 45
    }
   ],
   "source": [
    "midwest['category'].value_counts()"
   ]
  },
  {
   "cell_type": "code",
   "execution_count": 46,
   "metadata": {},
   "outputs": [
    {
     "output_type": "execute_result",
     "data": {
      "text/plain": [
       "A    248\n",
       "L     62\n",
       "H     22\n",
       "Name: c1, dtype: int64"
      ]
     },
     "metadata": {},
     "execution_count": 46
    }
   ],
   "source": [
    "# 插入三列\n",
    "midwest[\"c1\"] = midwest[\"category\"].apply(lambda x:x[0]) # 切片\n",
    "midwest[\"c2\"] = midwest[\"category\"].apply(lambda x:x[1])\n",
    "midwest[\"c3\"] = midwest[\"category\"].apply(lambda x:x[2])\n",
    "\n",
    "# 查看\n",
    "midwest[\"c1\"].value_counts() # average high, low\n",
    "# midwest.iloc[:,-3:].head() # 显示后三列  iloc根据行列， loc是根据表头"
   ]
  },
  {
   "cell_type": "code",
   "execution_count": 47,
   "metadata": {},
   "outputs": [
    {
     "output_type": "execute_result",
     "data": {
      "text/plain": [
       "   PID     county state   area  poptotal   popdensity  popwhite  popblack  \\\n",
       "0  561      ADAMS    IL  0.052     66090  1270.961540     63917      1702   \n",
       "1  562  ALEXANDER    IL  0.014     10626   759.000000      7054      3496   \n",
       "2  563       BOND    IL  0.022     14991   681.409091     14477       429   \n",
       "3  564      BOONE    IL  0.017     30806  1812.117650     29344       127   \n",
       "4  565      BROWN    IL  0.018      5836   324.222222      5264       547   \n",
       "\n",
       "   popamerindian  popasian  ...  percbelowpoverty  percchildbelowpovert  \\\n",
       "0             98       249  ...         13.151443             18.011717   \n",
       "1             19        48  ...         32.244278             45.826514   \n",
       "2             35        16  ...         12.068844             14.036061   \n",
       "3             46       150  ...          7.209019             11.179536   \n",
       "4             14         5  ...         13.520249             13.022889   \n",
       "\n",
       "   percadultpoverty  percelderlypoverty  inmetro  category    dot_size  c1  \\\n",
       "0         11.009776           12.443812        0       AAR  250.944411   A   \n",
       "1         27.385647           25.228976        0       LHR  185.781260   L   \n",
       "2         10.852090           12.697410        0       AAR  175.905385   A   \n",
       "3          5.536013            6.217047        1       ALU  319.823487   A   \n",
       "4         11.143211           19.200000        0       AAR  130.442161   A   \n",
       "\n",
       "   c2  c3  \n",
       "0   A   R  \n",
       "1   H   R  \n",
       "2   A   R  \n",
       "3   L   U  \n",
       "4   A   R  \n",
       "\n",
       "[5 rows x 32 columns]"
      ],
      "text/html": "<div>\n<style scoped>\n    .dataframe tbody tr th:only-of-type {\n        vertical-align: middle;\n    }\n\n    .dataframe tbody tr th {\n        vertical-align: top;\n    }\n\n    .dataframe thead th {\n        text-align: right;\n    }\n</style>\n<table border=\"1\" class=\"dataframe\">\n  <thead>\n    <tr style=\"text-align: right;\">\n      <th></th>\n      <th>PID</th>\n      <th>county</th>\n      <th>state</th>\n      <th>area</th>\n      <th>poptotal</th>\n      <th>popdensity</th>\n      <th>popwhite</th>\n      <th>popblack</th>\n      <th>popamerindian</th>\n      <th>popasian</th>\n      <th>...</th>\n      <th>percbelowpoverty</th>\n      <th>percchildbelowpovert</th>\n      <th>percadultpoverty</th>\n      <th>percelderlypoverty</th>\n      <th>inmetro</th>\n      <th>category</th>\n      <th>dot_size</th>\n      <th>c1</th>\n      <th>c2</th>\n      <th>c3</th>\n    </tr>\n  </thead>\n  <tbody>\n    <tr>\n      <th>0</th>\n      <td>561</td>\n      <td>ADAMS</td>\n      <td>IL</td>\n      <td>0.052</td>\n      <td>66090</td>\n      <td>1270.961540</td>\n      <td>63917</td>\n      <td>1702</td>\n      <td>98</td>\n      <td>249</td>\n      <td>...</td>\n      <td>13.151443</td>\n      <td>18.011717</td>\n      <td>11.009776</td>\n      <td>12.443812</td>\n      <td>0</td>\n      <td>AAR</td>\n      <td>250.944411</td>\n      <td>A</td>\n      <td>A</td>\n      <td>R</td>\n    </tr>\n    <tr>\n      <th>1</th>\n      <td>562</td>\n      <td>ALEXANDER</td>\n      <td>IL</td>\n      <td>0.014</td>\n      <td>10626</td>\n      <td>759.000000</td>\n      <td>7054</td>\n      <td>3496</td>\n      <td>19</td>\n      <td>48</td>\n      <td>...</td>\n      <td>32.244278</td>\n      <td>45.826514</td>\n      <td>27.385647</td>\n      <td>25.228976</td>\n      <td>0</td>\n      <td>LHR</td>\n      <td>185.781260</td>\n      <td>L</td>\n      <td>H</td>\n      <td>R</td>\n    </tr>\n    <tr>\n      <th>2</th>\n      <td>563</td>\n      <td>BOND</td>\n      <td>IL</td>\n      <td>0.022</td>\n      <td>14991</td>\n      <td>681.409091</td>\n      <td>14477</td>\n      <td>429</td>\n      <td>35</td>\n      <td>16</td>\n      <td>...</td>\n      <td>12.068844</td>\n      <td>14.036061</td>\n      <td>10.852090</td>\n      <td>12.697410</td>\n      <td>0</td>\n      <td>AAR</td>\n      <td>175.905385</td>\n      <td>A</td>\n      <td>A</td>\n      <td>R</td>\n    </tr>\n    <tr>\n      <th>3</th>\n      <td>564</td>\n      <td>BOONE</td>\n      <td>IL</td>\n      <td>0.017</td>\n      <td>30806</td>\n      <td>1812.117650</td>\n      <td>29344</td>\n      <td>127</td>\n      <td>46</td>\n      <td>150</td>\n      <td>...</td>\n      <td>7.209019</td>\n      <td>11.179536</td>\n      <td>5.536013</td>\n      <td>6.217047</td>\n      <td>1</td>\n      <td>ALU</td>\n      <td>319.823487</td>\n      <td>A</td>\n      <td>L</td>\n      <td>U</td>\n    </tr>\n    <tr>\n      <th>4</th>\n      <td>565</td>\n      <td>BROWN</td>\n      <td>IL</td>\n      <td>0.018</td>\n      <td>5836</td>\n      <td>324.222222</td>\n      <td>5264</td>\n      <td>547</td>\n      <td>14</td>\n      <td>5</td>\n      <td>...</td>\n      <td>13.520249</td>\n      <td>13.022889</td>\n      <td>11.143211</td>\n      <td>19.200000</td>\n      <td>0</td>\n      <td>AAR</td>\n      <td>130.442161</td>\n      <td>A</td>\n      <td>A</td>\n      <td>R</td>\n    </tr>\n  </tbody>\n</table>\n<p>5 rows × 32 columns</p>\n</div>"
     },
     "metadata": {},
     "execution_count": 47
    }
   ],
   "source": [
    "# 逻辑回归 先处理数据集，将我们取出来的三列标签转化为数字\n",
    "\n",
    "from sklearn.preprocessing import OrdinalEncoder as OE # 预处理\n",
    "data = midwest.copy() # 防止更改原始数据\n",
    "data.head()"
   ]
  },
  {
   "cell_type": "code",
   "execution_count": 48,
   "metadata": {},
   "outputs": [
    {
     "output_type": "execute_result",
     "data": {
      "text/plain": [
       "  c1 c2 c3\n",
       "0  A  A  R\n",
       "1  L  H  R\n",
       "2  A  A  R\n",
       "3  A  L  U\n",
       "4  A  A  R"
      ],
      "text/html": "<div>\n<style scoped>\n    .dataframe tbody tr th:only-of-type {\n        vertical-align: middle;\n    }\n\n    .dataframe tbody tr th {\n        vertical-align: top;\n    }\n\n    .dataframe thead th {\n        text-align: right;\n    }\n</style>\n<table border=\"1\" class=\"dataframe\">\n  <thead>\n    <tr style=\"text-align: right;\">\n      <th></th>\n      <th>c1</th>\n      <th>c2</th>\n      <th>c3</th>\n    </tr>\n  </thead>\n  <tbody>\n    <tr>\n      <th>0</th>\n      <td>A</td>\n      <td>A</td>\n      <td>R</td>\n    </tr>\n    <tr>\n      <th>1</th>\n      <td>L</td>\n      <td>H</td>\n      <td>R</td>\n    </tr>\n    <tr>\n      <th>2</th>\n      <td>A</td>\n      <td>A</td>\n      <td>R</td>\n    </tr>\n    <tr>\n      <th>3</th>\n      <td>A</td>\n      <td>L</td>\n      <td>U</td>\n    </tr>\n    <tr>\n      <th>4</th>\n      <td>A</td>\n      <td>A</td>\n      <td>R</td>\n    </tr>\n  </tbody>\n</table>\n</div>"
     },
     "metadata": {},
     "execution_count": 48
    }
   ],
   "source": [
    "data.iloc[:, -3:].head()"
   ]
  },
  {
   "cell_type": "code",
   "execution_count": 49,
   "metadata": {},
   "outputs": [
    {
     "output_type": "execute_result",
     "data": {
      "text/plain": [
       "    c1   c2   c3\n",
       "0  0.0  0.0  0.0\n",
       "1  2.0  1.0  0.0\n",
       "2  0.0  0.0  0.0\n",
       "3  0.0  2.0  1.0\n",
       "4  0.0  0.0  0.0"
      ],
      "text/html": "<div>\n<style scoped>\n    .dataframe tbody tr th:only-of-type {\n        vertical-align: middle;\n    }\n\n    .dataframe tbody tr th {\n        vertical-align: top;\n    }\n\n    .dataframe thead th {\n        text-align: right;\n    }\n</style>\n<table border=\"1\" class=\"dataframe\">\n  <thead>\n    <tr style=\"text-align: right;\">\n      <th></th>\n      <th>c1</th>\n      <th>c2</th>\n      <th>c3</th>\n    </tr>\n  </thead>\n  <tbody>\n    <tr>\n      <th>0</th>\n      <td>0.0</td>\n      <td>0.0</td>\n      <td>0.0</td>\n    </tr>\n    <tr>\n      <th>1</th>\n      <td>2.0</td>\n      <td>1.0</td>\n      <td>0.0</td>\n    </tr>\n    <tr>\n      <th>2</th>\n      <td>0.0</td>\n      <td>0.0</td>\n      <td>0.0</td>\n    </tr>\n    <tr>\n      <th>3</th>\n      <td>0.0</td>\n      <td>2.0</td>\n      <td>1.0</td>\n    </tr>\n    <tr>\n      <th>4</th>\n      <td>0.0</td>\n      <td>0.0</td>\n      <td>0.0</td>\n    </tr>\n  </tbody>\n</table>\n</div>"
     },
     "metadata": {},
     "execution_count": 49
    }
   ],
   "source": [
    "data.iloc[:,-3:] = OE().fit_transform(data.iloc[:,-3:]) # label转化为数字形式\n",
    "data.iloc[:,-3:].head() #average = 0,L=2,H=1"
   ]
  },
  {
   "cell_type": "code",
   "execution_count": 50,
   "metadata": {},
   "outputs": [
    {
     "output_type": "stream",
     "name": "stdout",
     "text": [
      "<class 'pandas.core.frame.DataFrame'>\nRangeIndex: 332 entries, 0 to 331\nData columns (total 32 columns):\n #   Column                Non-Null Count  Dtype  \n---  ------                --------------  -----  \n 0   PID                   332 non-null    int64  \n 1   county                332 non-null    object \n 2   state                 332 non-null    object \n 3   area                  332 non-null    float64\n 4   poptotal              332 non-null    int64  \n 5   popdensity            332 non-null    float64\n 6   popwhite              332 non-null    int64  \n 7   popblack              332 non-null    int64  \n 8   popamerindian         332 non-null    int64  \n 9   popasian              332 non-null    int64  \n 10  popother              332 non-null    int64  \n 11  percwhite             332 non-null    float64\n 12  percblack             332 non-null    float64\n 13  percamerindan         332 non-null    float64\n 14  percasian             332 non-null    float64\n 15  percother             332 non-null    float64\n 16  popadults             332 non-null    int64  \n 17  perchsd               332 non-null    float64\n 18  percollege            332 non-null    float64\n 19  percprof              332 non-null    float64\n 20  poppovertyknown       332 non-null    int64  \n 21  percpovertyknown      332 non-null    float64\n 22  percbelowpoverty      332 non-null    float64\n 23  percchildbelowpovert  332 non-null    float64\n 24  percadultpoverty      332 non-null    float64\n 25  percelderlypoverty    332 non-null    float64\n 26  inmetro               332 non-null    int64  \n 27  category              332 non-null    object \n 28  dot_size              332 non-null    float64\n 29  c1                    332 non-null    float64\n 30  c2                    332 non-null    float64\n 31  c3                    332 non-null    float64\ndtypes: float64(19), int64(10), object(3)\nmemory usage: 83.1+ KB\n"
     ]
    }
   ],
   "source": [
    "data.info()"
   ]
  },
  {
   "cell_type": "code",
   "execution_count": 51,
   "metadata": {},
   "outputs": [],
   "source": [
    "data.columns = [\"城市ID\",\"郡\",\"州\",\"面积\",\"总人口\",\"人口密度\",\"白人人口\",\"非裔人口\",\"美洲印第安人人口\",\"亚洲人口\",\"其他人种人口\"\n",
    "                   ,\"白人所占比例\",\"非裔所占比例\",\"美洲印第安人所占比例\",\"亚洲人所占比例\",\"其他人种比例\"\n",
    "                   ,\"成年人口\",\"具有高中文凭的比率\",\"大学文凭比例\",\"有工作的人群比例\"\n",
    "                   ,\"已知贫困人口\",\"已知贫困人口的比例\",\"贫困线以下的人的比例\",\"贫困线以下的儿童所占比例\",\"贫困的成年人所占的比例\",\"贫困的老年人所占的比例\"\n",
    "                   ,\"是否拥有地铁\",\"标签\",\"点的尺寸\",\"c1\",\"c2\",\"c3\"]\n",
    "\n",
    "#去掉所有类型为”object\"的列，都是无用的信息=====================================================\n",
    "data = data.loc[:,data.dtypes.values != \"O\"]"
   ]
  },
  {
   "cell_type": "code",
   "execution_count": 52,
   "metadata": {},
   "outputs": [
    {
     "output_type": "stream",
     "name": "stdout",
     "text": [
      "<class 'pandas.core.frame.DataFrame'>\nRangeIndex: 332 entries, 0 to 331\nData columns (total 29 columns):\n #   Column        Non-Null Count  Dtype  \n---  ------        --------------  -----  \n 0   城市ID          332 non-null    float64\n 1   面积            332 non-null    float64\n 2   总人口           332 non-null    float64\n 3   人口密度          332 non-null    float64\n 4   白人人口          332 non-null    float64\n 5   非裔人口          332 non-null    float64\n 6   美洲印第安人人口      332 non-null    float64\n 7   亚洲人口          332 non-null    float64\n 8   其他人种人口        332 non-null    float64\n 9   白人所占比例        332 non-null    float64\n 10  非裔所占比例        332 non-null    float64\n 11  美洲印第安人所占比例    332 non-null    float64\n 12  亚洲人所占比例       332 non-null    float64\n 13  其他人种比例        332 non-null    float64\n 14  成年人口          332 non-null    float64\n 15  具有高中文凭的比率     332 non-null    float64\n 16  大学文凭比例        332 non-null    float64\n 17  有工作的人群比例      332 non-null    float64\n 18  已知贫困人口        332 non-null    float64\n 19  已知贫困人口的比例     332 non-null    float64\n 20  贫困线以下的人的比例    332 non-null    float64\n 21  贫困线以下的儿童所占比例  332 non-null    float64\n 22  贫困的成年人所占的比例   332 non-null    float64\n 23  贫困的老年人所占的比例   332 non-null    float64\n 24  是否拥有地铁        332 non-null    float64\n 25  点的尺寸          332 non-null    float64\n 26  c1            332 non-null    float64\n 27  c2            332 non-null    float64\n 28  c3            332 non-null    float64\ndtypes: float64(29)\nmemory usage: 75.3 KB\n"
     ]
    }
   ],
   "source": [
    "#将所有为整数类型的类转换为浮点数类型\n",
    "for i in range(data.loc[:,data.dtypes.values == \"int64\"].shape[1]):\n",
    "    data.loc[i,data.dtypes.values == \"int64\"] = data.loc[i,data.dtypes.values == \"int64\"].apply(lambda x:float(x))\n",
    "\n",
    "data.info() # 已经全部转化为float64"
   ]
  },
  {
   "cell_type": "code",
   "execution_count": 53,
   "metadata": {},
   "outputs": [
    {
     "output_type": "execute_result",
     "data": {
      "text/plain": [
       "      面积      总人口         人口密度     白人人口    非裔人口  美洲印第安人人口   亚洲人口  其他人种人口  \\\n",
       "0  0.052  66090.0  1270.961540  63917.0  1702.0      98.0  249.0   124.0   \n",
       "1  0.014  10626.0   759.000000   7054.0  3496.0      19.0   48.0     9.0   \n",
       "2  0.022  14991.0   681.409091  14477.0   429.0      35.0   16.0    34.0   \n",
       "3  0.017  30806.0  1812.117650  29344.0   127.0      46.0  150.0  1139.0   \n",
       "4  0.018   5836.0   324.222222   5264.0   547.0      14.0    5.0     6.0   \n",
       "\n",
       "      白人所占比例     非裔所占比例  ...     大学文凭比例  有工作的人群比例   已知贫困人口  已知贫困人口的比例  \\\n",
       "0  96.712059   2.575276  ...  19.631392  4.355859  63628.0  96.274777   \n",
       "1  66.384340  32.900433  ...  11.243308  2.870315  10529.0  99.087145   \n",
       "2  96.571276   2.861717  ...  17.033819  4.488572  14235.0  94.956974   \n",
       "3  95.254171   0.412257  ...  17.278954  4.197800  30337.0  98.477569   \n",
       "4  90.198766   9.372858  ...  14.475999  3.367680   4815.0  82.505140   \n",
       "\n",
       "   贫困线以下的人的比例  贫困线以下的儿童所占比例  贫困的成年人所占的比例  贫困的老年人所占的比例  是否拥有地铁        点的尺寸  \n",
       "0   13.151443     18.011717    11.009776    12.443812     0.0  250.944411  \n",
       "1   32.244278     45.826514    27.385647    25.228976     0.0  185.781260  \n",
       "2   12.068844     14.036061    10.852090    12.697410     0.0  175.905385  \n",
       "3    7.209019     11.179536     5.536013     6.217047     1.0  319.823487  \n",
       "4   13.520249     13.022889    11.143211    19.200000     0.0  130.442161  \n",
       "\n",
       "[5 rows x 25 columns]"
      ],
      "text/html": "<div>\n<style scoped>\n    .dataframe tbody tr th:only-of-type {\n        vertical-align: middle;\n    }\n\n    .dataframe tbody tr th {\n        vertical-align: top;\n    }\n\n    .dataframe thead th {\n        text-align: right;\n    }\n</style>\n<table border=\"1\" class=\"dataframe\">\n  <thead>\n    <tr style=\"text-align: right;\">\n      <th></th>\n      <th>面积</th>\n      <th>总人口</th>\n      <th>人口密度</th>\n      <th>白人人口</th>\n      <th>非裔人口</th>\n      <th>美洲印第安人人口</th>\n      <th>亚洲人口</th>\n      <th>其他人种人口</th>\n      <th>白人所占比例</th>\n      <th>非裔所占比例</th>\n      <th>...</th>\n      <th>大学文凭比例</th>\n      <th>有工作的人群比例</th>\n      <th>已知贫困人口</th>\n      <th>已知贫困人口的比例</th>\n      <th>贫困线以下的人的比例</th>\n      <th>贫困线以下的儿童所占比例</th>\n      <th>贫困的成年人所占的比例</th>\n      <th>贫困的老年人所占的比例</th>\n      <th>是否拥有地铁</th>\n      <th>点的尺寸</th>\n    </tr>\n  </thead>\n  <tbody>\n    <tr>\n      <th>0</th>\n      <td>0.052</td>\n      <td>66090.0</td>\n      <td>1270.961540</td>\n      <td>63917.0</td>\n      <td>1702.0</td>\n      <td>98.0</td>\n      <td>249.0</td>\n      <td>124.0</td>\n      <td>96.712059</td>\n      <td>2.575276</td>\n      <td>...</td>\n      <td>19.631392</td>\n      <td>4.355859</td>\n      <td>63628.0</td>\n      <td>96.274777</td>\n      <td>13.151443</td>\n      <td>18.011717</td>\n      <td>11.009776</td>\n      <td>12.443812</td>\n      <td>0.0</td>\n      <td>250.944411</td>\n    </tr>\n    <tr>\n      <th>1</th>\n      <td>0.014</td>\n      <td>10626.0</td>\n      <td>759.000000</td>\n      <td>7054.0</td>\n      <td>3496.0</td>\n      <td>19.0</td>\n      <td>48.0</td>\n      <td>9.0</td>\n      <td>66.384340</td>\n      <td>32.900433</td>\n      <td>...</td>\n      <td>11.243308</td>\n      <td>2.870315</td>\n      <td>10529.0</td>\n      <td>99.087145</td>\n      <td>32.244278</td>\n      <td>45.826514</td>\n      <td>27.385647</td>\n      <td>25.228976</td>\n      <td>0.0</td>\n      <td>185.781260</td>\n    </tr>\n    <tr>\n      <th>2</th>\n      <td>0.022</td>\n      <td>14991.0</td>\n      <td>681.409091</td>\n      <td>14477.0</td>\n      <td>429.0</td>\n      <td>35.0</td>\n      <td>16.0</td>\n      <td>34.0</td>\n      <td>96.571276</td>\n      <td>2.861717</td>\n      <td>...</td>\n      <td>17.033819</td>\n      <td>4.488572</td>\n      <td>14235.0</td>\n      <td>94.956974</td>\n      <td>12.068844</td>\n      <td>14.036061</td>\n      <td>10.852090</td>\n      <td>12.697410</td>\n      <td>0.0</td>\n      <td>175.905385</td>\n    </tr>\n    <tr>\n      <th>3</th>\n      <td>0.017</td>\n      <td>30806.0</td>\n      <td>1812.117650</td>\n      <td>29344.0</td>\n      <td>127.0</td>\n      <td>46.0</td>\n      <td>150.0</td>\n      <td>1139.0</td>\n      <td>95.254171</td>\n      <td>0.412257</td>\n      <td>...</td>\n      <td>17.278954</td>\n      <td>4.197800</td>\n      <td>30337.0</td>\n      <td>98.477569</td>\n      <td>7.209019</td>\n      <td>11.179536</td>\n      <td>5.536013</td>\n      <td>6.217047</td>\n      <td>1.0</td>\n      <td>319.823487</td>\n    </tr>\n    <tr>\n      <th>4</th>\n      <td>0.018</td>\n      <td>5836.0</td>\n      <td>324.222222</td>\n      <td>5264.0</td>\n      <td>547.0</td>\n      <td>14.0</td>\n      <td>5.0</td>\n      <td>6.0</td>\n      <td>90.198766</td>\n      <td>9.372858</td>\n      <td>...</td>\n      <td>14.475999</td>\n      <td>3.367680</td>\n      <td>4815.0</td>\n      <td>82.505140</td>\n      <td>13.520249</td>\n      <td>13.022889</td>\n      <td>11.143211</td>\n      <td>19.200000</td>\n      <td>0.0</td>\n      <td>130.442161</td>\n    </tr>\n  </tbody>\n</table>\n<p>5 rows × 25 columns</p>\n</div>"
     },
     "metadata": {},
     "execution_count": 53
    }
   ],
   "source": [
    "X = data.iloc[:,1:-3] #除了对象类的列，还有城市编号也是无用的信息，因此我们不把它作为特征矩阵的一部分\n",
    "X.head()"
   ]
  },
  {
   "cell_type": "code",
   "execution_count": 54,
   "metadata": {},
   "outputs": [
    {
     "output_type": "execute_result",
     "data": {
      "text/plain": [
       "    c1   c2   c3\n",
       "0  0.0  0.0  0.0\n",
       "1  2.0  1.0  0.0\n",
       "2  0.0  0.0  0.0\n",
       "3  0.0  2.0  1.0\n",
       "4  0.0  0.0  0.0"
      ],
      "text/html": "<div>\n<style scoped>\n    .dataframe tbody tr th:only-of-type {\n        vertical-align: middle;\n    }\n\n    .dataframe tbody tr th {\n        vertical-align: top;\n    }\n\n    .dataframe thead th {\n        text-align: right;\n    }\n</style>\n<table border=\"1\" class=\"dataframe\">\n  <thead>\n    <tr style=\"text-align: right;\">\n      <th></th>\n      <th>c1</th>\n      <th>c2</th>\n      <th>c3</th>\n    </tr>\n  </thead>\n  <tbody>\n    <tr>\n      <th>0</th>\n      <td>0.0</td>\n      <td>0.0</td>\n      <td>0.0</td>\n    </tr>\n    <tr>\n      <th>1</th>\n      <td>2.0</td>\n      <td>1.0</td>\n      <td>0.0</td>\n    </tr>\n    <tr>\n      <th>2</th>\n      <td>0.0</td>\n      <td>0.0</td>\n      <td>0.0</td>\n    </tr>\n    <tr>\n      <th>3</th>\n      <td>0.0</td>\n      <td>2.0</td>\n      <td>1.0</td>\n    </tr>\n    <tr>\n      <th>4</th>\n      <td>0.0</td>\n      <td>0.0</td>\n      <td>0.0</td>\n    </tr>\n  </tbody>\n</table>\n</div>"
     },
     "metadata": {},
     "execution_count": 54
    }
   ],
   "source": [
    "# 标签\n",
    "\n",
    "y = data.iloc[:,-3:]\n",
    "y.head()\n"
   ]
  },
  {
   "cell_type": "code",
   "execution_count": 55,
   "metadata": {},
   "outputs": [
    {
     "output_type": "execute_result",
     "data": {
      "text/plain": [
       "      面积      总人口         人口密度     白人人口    非裔人口  美洲印第安人人口    亚洲人口  其他人种人口  \\\n",
       "0  0.041  15682.0   382.487805  15001.0   375.0     125.0    56.0   125.0   \n",
       "1  0.030  23265.0   775.500000  23127.0     2.0      50.0    41.0    45.0   \n",
       "2  0.036  61067.0  1696.305560  51991.0  6342.0     109.0  2178.0   447.0   \n",
       "3  0.031  18185.0   586.612903  17895.0    23.0     211.0    24.0    32.0   \n",
       "4  0.079  14181.0   179.506329  11962.0    18.0    2167.0    15.0    19.0   \n",
       "\n",
       "      白人所占比例     非裔所占比例  ...     大学文凭比例   有工作的人群比例   已知贫困人口  已知贫困人口的比例  \\\n",
       "0  95.657442   2.391277  ...  12.427492   2.390578  14534.0  92.679505   \n",
       "1  99.406834   0.008597  ...  16.583835   5.166100  22974.0  98.749194   \n",
       "2  85.137636  10.385314  ...  36.643665  14.089892  54230.0  88.804100   \n",
       "3  98.405279   0.126478  ...  19.039803   5.014362  17942.0  98.663734   \n",
       "4  84.352302   0.126930  ...  17.947917   4.041667  13897.0  97.997320   \n",
       "\n",
       "   贫困线以下的人的比例  贫困线以下的儿童所占比例  贫困的成年人所占的比例  贫困的老年人所占的比例  是否拥有地铁        点的尺寸  \n",
       "0   14.435118     22.300831    13.310056    10.186757     0.0  137.858283  \n",
       "1    7.704361      8.136567     6.168723    11.040340     0.0  187.881402  \n",
       "2   28.371750     26.392211    32.458483    13.815301     0.0  305.082769  \n",
       "3   13.214803     18.758142    12.037542     9.681284     0.0  163.839599  \n",
       "4   20.544002     29.073570    19.195368    14.179318     0.0  112.022528  \n",
       "\n",
       "[5 rows x 25 columns]"
      ],
      "text/html": "<div>\n<style scoped>\n    .dataframe tbody tr th:only-of-type {\n        vertical-align: middle;\n    }\n\n    .dataframe tbody tr th {\n        vertical-align: top;\n    }\n\n    .dataframe thead th {\n        text-align: right;\n    }\n</style>\n<table border=\"1\" class=\"dataframe\">\n  <thead>\n    <tr style=\"text-align: right;\">\n      <th></th>\n      <th>面积</th>\n      <th>总人口</th>\n      <th>人口密度</th>\n      <th>白人人口</th>\n      <th>非裔人口</th>\n      <th>美洲印第安人人口</th>\n      <th>亚洲人口</th>\n      <th>其他人种人口</th>\n      <th>白人所占比例</th>\n      <th>非裔所占比例</th>\n      <th>...</th>\n      <th>大学文凭比例</th>\n      <th>有工作的人群比例</th>\n      <th>已知贫困人口</th>\n      <th>已知贫困人口的比例</th>\n      <th>贫困线以下的人的比例</th>\n      <th>贫困线以下的儿童所占比例</th>\n      <th>贫困的成年人所占的比例</th>\n      <th>贫困的老年人所占的比例</th>\n      <th>是否拥有地铁</th>\n      <th>点的尺寸</th>\n    </tr>\n  </thead>\n  <tbody>\n    <tr>\n      <th>0</th>\n      <td>0.041</td>\n      <td>15682.0</td>\n      <td>382.487805</td>\n      <td>15001.0</td>\n      <td>375.0</td>\n      <td>125.0</td>\n      <td>56.0</td>\n      <td>125.0</td>\n      <td>95.657442</td>\n      <td>2.391277</td>\n      <td>...</td>\n      <td>12.427492</td>\n      <td>2.390578</td>\n      <td>14534.0</td>\n      <td>92.679505</td>\n      <td>14.435118</td>\n      <td>22.300831</td>\n      <td>13.310056</td>\n      <td>10.186757</td>\n      <td>0.0</td>\n      <td>137.858283</td>\n    </tr>\n    <tr>\n      <th>1</th>\n      <td>0.030</td>\n      <td>23265.0</td>\n      <td>775.500000</td>\n      <td>23127.0</td>\n      <td>2.0</td>\n      <td>50.0</td>\n      <td>41.0</td>\n      <td>45.0</td>\n      <td>99.406834</td>\n      <td>0.008597</td>\n      <td>...</td>\n      <td>16.583835</td>\n      <td>5.166100</td>\n      <td>22974.0</td>\n      <td>98.749194</td>\n      <td>7.704361</td>\n      <td>8.136567</td>\n      <td>6.168723</td>\n      <td>11.040340</td>\n      <td>0.0</td>\n      <td>187.881402</td>\n    </tr>\n    <tr>\n      <th>2</th>\n      <td>0.036</td>\n      <td>61067.0</td>\n      <td>1696.305560</td>\n      <td>51991.0</td>\n      <td>6342.0</td>\n      <td>109.0</td>\n      <td>2178.0</td>\n      <td>447.0</td>\n      <td>85.137636</td>\n      <td>10.385314</td>\n      <td>...</td>\n      <td>36.643665</td>\n      <td>14.089892</td>\n      <td>54230.0</td>\n      <td>88.804100</td>\n      <td>28.371750</td>\n      <td>26.392211</td>\n      <td>32.458483</td>\n      <td>13.815301</td>\n      <td>0.0</td>\n      <td>305.082769</td>\n    </tr>\n    <tr>\n      <th>3</th>\n      <td>0.031</td>\n      <td>18185.0</td>\n      <td>586.612903</td>\n      <td>17895.0</td>\n      <td>23.0</td>\n      <td>211.0</td>\n      <td>24.0</td>\n      <td>32.0</td>\n      <td>98.405279</td>\n      <td>0.126478</td>\n      <td>...</td>\n      <td>19.039803</td>\n      <td>5.014362</td>\n      <td>17942.0</td>\n      <td>98.663734</td>\n      <td>13.214803</td>\n      <td>18.758142</td>\n      <td>12.037542</td>\n      <td>9.681284</td>\n      <td>0.0</td>\n      <td>163.839599</td>\n    </tr>\n    <tr>\n      <th>4</th>\n      <td>0.079</td>\n      <td>14181.0</td>\n      <td>179.506329</td>\n      <td>11962.0</td>\n      <td>18.0</td>\n      <td>2167.0</td>\n      <td>15.0</td>\n      <td>19.0</td>\n      <td>84.352302</td>\n      <td>0.126930</td>\n      <td>...</td>\n      <td>17.947917</td>\n      <td>4.041667</td>\n      <td>13897.0</td>\n      <td>97.997320</td>\n      <td>20.544002</td>\n      <td>29.073570</td>\n      <td>19.195368</td>\n      <td>14.179318</td>\n      <td>0.0</td>\n      <td>112.022528</td>\n    </tr>\n  </tbody>\n</table>\n<p>5 rows × 25 columns</p>\n</div>"
     },
     "metadata": {},
     "execution_count": 55
    }
   ],
   "source": [
    "#然后分训练集和测试集\n",
    "\n",
    "from sklearn.model_selection import train_test_split as TTS\n",
    "Xtrain, Xtest, Ytrain, Ytest = TTS(X,y,test_size=0.3,random_state=420) # random_state 同样的训练集和测试集\n",
    "\n",
    "#恢复索引\n",
    "for i in [Xtrain,Xtest, Ytrain, Ytest]:\n",
    "    i.index = range(i.shape[0])\n",
    "\n",
    "Xtrain.head()"
   ]
  },
  {
   "cell_type": "code",
   "execution_count": 59,
   "metadata": {},
   "outputs": [
    {
     "output_type": "execute_result",
     "data": {
      "text/plain": [
       "        面积      总人口         人口密度     白人人口    非裔人口  美洲印第安人人口    亚洲人口  其他人种人口  \\\n",
       "0    0.041  15682.0   382.487805  15001.0   375.0     125.0    56.0   125.0   \n",
       "1    0.030  23265.0   775.500000  23127.0     2.0      50.0    41.0    45.0   \n",
       "2    0.036  61067.0  1696.305560  51991.0  6342.0     109.0  2178.0   447.0   \n",
       "3    0.031  18185.0   586.612903  17895.0    23.0     211.0    24.0    32.0   \n",
       "4    0.079  14181.0   179.506329  11962.0    18.0    2167.0    15.0    19.0   \n",
       "..     ...      ...          ...      ...     ...       ...     ...     ...   \n",
       "227  0.033  30209.0   915.424242  28966.0   632.0     228.0   269.0   114.0   \n",
       "228  0.021  29797.0  1418.904760  29181.0   363.0      58.0   122.0    73.0   \n",
       "229  0.054  76559.0  1417.759260  74700.0  1142.0     215.0   197.0   305.0   \n",
       "230  0.022   4373.0   198.772727   4072.0   266.0      15.0     6.0    14.0   \n",
       "231  0.017   6534.0   384.352941   6496.0     8.0       8.0    21.0     1.0   \n",
       "\n",
       "        白人所占比例     非裔所占比例  ...  具有高中文凭的比率     大学文凭比例   有工作的人群比例   已知贫困人口  \\\n",
       "0    95.657442   2.391277  ...  66.980137  12.427492   2.390578  14534.0   \n",
       "1    99.406834   0.008597  ...  77.877321  16.583835   5.166100  22974.0   \n",
       "2    85.137636  10.385314  ...  78.767251  36.643665  14.089892  54230.0   \n",
       "3    98.405279   0.126478  ...  76.380796  19.039803   5.014362  17942.0   \n",
       "4    84.352302   0.126930  ...  73.739583  17.947917   4.041667  13897.0   \n",
       "..         ...        ...  ...        ...        ...        ...      ...   \n",
       "227  95.885332   2.092092  ...  76.315515  16.234240   3.631343  29106.0   \n",
       "228  97.932678   1.218243  ...  70.285018  17.546090   5.504344  27849.0   \n",
       "229  97.571807   1.491660  ...  72.278344  15.925464   2.823278  72840.0   \n",
       "230  93.116853   6.082781  ...  65.154201  14.250266   2.481390   4160.0   \n",
       "231  99.418427   0.122436  ...  77.024568  16.878981   2.979982   6404.0   \n",
       "\n",
       "     已知贫困人口的比例  贫困线以下的人的比例  贫困线以下的儿童所占比例  贫困的成年人所占的比例  贫困的老年人所占的比例        点的尺寸  \n",
       "0    92.679505   14.435118     22.300831    13.310056    10.186757  137.858283  \n",
       "1    98.749194    7.704361      8.136567     6.168723    11.040340  187.881402  \n",
       "2    88.804100   28.371750     26.392211    32.458483    13.815301  305.082769  \n",
       "3    98.663734   13.214803     18.758142    12.037542     9.681284  163.839599  \n",
       "4    97.997320   20.544002     29.073570    19.195368    14.179318  112.022528  \n",
       "..         ...         ...           ...          ...          ...         ...  \n",
       "227  96.348770   14.158593     18.582596    12.255761    13.275687  205.691147  \n",
       "228  93.462429   11.634170     15.619022     9.610108    12.160494  269.774823  \n",
       "229  95.142308    6.644701      8.393874     5.177405     8.255788  269.629022  \n",
       "230  95.129202   25.168269     36.472946    24.414869    15.361139  114.474781  \n",
       "231  98.010407   12.460962     19.039146    10.447761     9.387483  138.095680  \n",
       "\n",
       "[232 rows x 24 columns]"
      ],
      "text/html": "<div>\n<style scoped>\n    .dataframe tbody tr th:only-of-type {\n        vertical-align: middle;\n    }\n\n    .dataframe tbody tr th {\n        vertical-align: top;\n    }\n\n    .dataframe thead th {\n        text-align: right;\n    }\n</style>\n<table border=\"1\" class=\"dataframe\">\n  <thead>\n    <tr style=\"text-align: right;\">\n      <th></th>\n      <th>面积</th>\n      <th>总人口</th>\n      <th>人口密度</th>\n      <th>白人人口</th>\n      <th>非裔人口</th>\n      <th>美洲印第安人人口</th>\n      <th>亚洲人口</th>\n      <th>其他人种人口</th>\n      <th>白人所占比例</th>\n      <th>非裔所占比例</th>\n      <th>...</th>\n      <th>具有高中文凭的比率</th>\n      <th>大学文凭比例</th>\n      <th>有工作的人群比例</th>\n      <th>已知贫困人口</th>\n      <th>已知贫困人口的比例</th>\n      <th>贫困线以下的人的比例</th>\n      <th>贫困线以下的儿童所占比例</th>\n      <th>贫困的成年人所占的比例</th>\n      <th>贫困的老年人所占的比例</th>\n      <th>点的尺寸</th>\n    </tr>\n  </thead>\n  <tbody>\n    <tr>\n      <th>0</th>\n      <td>0.041</td>\n      <td>15682.0</td>\n      <td>382.487805</td>\n      <td>15001.0</td>\n      <td>375.0</td>\n      <td>125.0</td>\n      <td>56.0</td>\n      <td>125.0</td>\n      <td>95.657442</td>\n      <td>2.391277</td>\n      <td>...</td>\n      <td>66.980137</td>\n      <td>12.427492</td>\n      <td>2.390578</td>\n      <td>14534.0</td>\n      <td>92.679505</td>\n      <td>14.435118</td>\n      <td>22.300831</td>\n      <td>13.310056</td>\n      <td>10.186757</td>\n      <td>137.858283</td>\n    </tr>\n    <tr>\n      <th>1</th>\n      <td>0.030</td>\n      <td>23265.0</td>\n      <td>775.500000</td>\n      <td>23127.0</td>\n      <td>2.0</td>\n      <td>50.0</td>\n      <td>41.0</td>\n      <td>45.0</td>\n      <td>99.406834</td>\n      <td>0.008597</td>\n      <td>...</td>\n      <td>77.877321</td>\n      <td>16.583835</td>\n      <td>5.166100</td>\n      <td>22974.0</td>\n      <td>98.749194</td>\n      <td>7.704361</td>\n      <td>8.136567</td>\n      <td>6.168723</td>\n      <td>11.040340</td>\n      <td>187.881402</td>\n    </tr>\n    <tr>\n      <th>2</th>\n      <td>0.036</td>\n      <td>61067.0</td>\n      <td>1696.305560</td>\n      <td>51991.0</td>\n      <td>6342.0</td>\n      <td>109.0</td>\n      <td>2178.0</td>\n      <td>447.0</td>\n      <td>85.137636</td>\n      <td>10.385314</td>\n      <td>...</td>\n      <td>78.767251</td>\n      <td>36.643665</td>\n      <td>14.089892</td>\n      <td>54230.0</td>\n      <td>88.804100</td>\n      <td>28.371750</td>\n      <td>26.392211</td>\n      <td>32.458483</td>\n      <td>13.815301</td>\n      <td>305.082769</td>\n    </tr>\n    <tr>\n      <th>3</th>\n      <td>0.031</td>\n      <td>18185.0</td>\n      <td>586.612903</td>\n      <td>17895.0</td>\n      <td>23.0</td>\n      <td>211.0</td>\n      <td>24.0</td>\n      <td>32.0</td>\n      <td>98.405279</td>\n      <td>0.126478</td>\n      <td>...</td>\n      <td>76.380796</td>\n      <td>19.039803</td>\n      <td>5.014362</td>\n      <td>17942.0</td>\n      <td>98.663734</td>\n      <td>13.214803</td>\n      <td>18.758142</td>\n      <td>12.037542</td>\n      <td>9.681284</td>\n      <td>163.839599</td>\n    </tr>\n    <tr>\n      <th>4</th>\n      <td>0.079</td>\n      <td>14181.0</td>\n      <td>179.506329</td>\n      <td>11962.0</td>\n      <td>18.0</td>\n      <td>2167.0</td>\n      <td>15.0</td>\n      <td>19.0</td>\n      <td>84.352302</td>\n      <td>0.126930</td>\n      <td>...</td>\n      <td>73.739583</td>\n      <td>17.947917</td>\n      <td>4.041667</td>\n      <td>13897.0</td>\n      <td>97.997320</td>\n      <td>20.544002</td>\n      <td>29.073570</td>\n      <td>19.195368</td>\n      <td>14.179318</td>\n      <td>112.022528</td>\n    </tr>\n    <tr>\n      <th>...</th>\n      <td>...</td>\n      <td>...</td>\n      <td>...</td>\n      <td>...</td>\n      <td>...</td>\n      <td>...</td>\n      <td>...</td>\n      <td>...</td>\n      <td>...</td>\n      <td>...</td>\n      <td>...</td>\n      <td>...</td>\n      <td>...</td>\n      <td>...</td>\n      <td>...</td>\n      <td>...</td>\n      <td>...</td>\n      <td>...</td>\n      <td>...</td>\n      <td>...</td>\n      <td>...</td>\n    </tr>\n    <tr>\n      <th>227</th>\n      <td>0.033</td>\n      <td>30209.0</td>\n      <td>915.424242</td>\n      <td>28966.0</td>\n      <td>632.0</td>\n      <td>228.0</td>\n      <td>269.0</td>\n      <td>114.0</td>\n      <td>95.885332</td>\n      <td>2.092092</td>\n      <td>...</td>\n      <td>76.315515</td>\n      <td>16.234240</td>\n      <td>3.631343</td>\n      <td>29106.0</td>\n      <td>96.348770</td>\n      <td>14.158593</td>\n      <td>18.582596</td>\n      <td>12.255761</td>\n      <td>13.275687</td>\n      <td>205.691147</td>\n    </tr>\n    <tr>\n      <th>228</th>\n      <td>0.021</td>\n      <td>29797.0</td>\n      <td>1418.904760</td>\n      <td>29181.0</td>\n      <td>363.0</td>\n      <td>58.0</td>\n      <td>122.0</td>\n      <td>73.0</td>\n      <td>97.932678</td>\n      <td>1.218243</td>\n      <td>...</td>\n      <td>70.285018</td>\n      <td>17.546090</td>\n      <td>5.504344</td>\n      <td>27849.0</td>\n      <td>93.462429</td>\n      <td>11.634170</td>\n      <td>15.619022</td>\n      <td>9.610108</td>\n      <td>12.160494</td>\n      <td>269.774823</td>\n    </tr>\n    <tr>\n      <th>229</th>\n      <td>0.054</td>\n      <td>76559.0</td>\n      <td>1417.759260</td>\n      <td>74700.0</td>\n      <td>1142.0</td>\n      <td>215.0</td>\n      <td>197.0</td>\n      <td>305.0</td>\n      <td>97.571807</td>\n      <td>1.491660</td>\n      <td>...</td>\n      <td>72.278344</td>\n      <td>15.925464</td>\n      <td>2.823278</td>\n      <td>72840.0</td>\n      <td>95.142308</td>\n      <td>6.644701</td>\n      <td>8.393874</td>\n      <td>5.177405</td>\n      <td>8.255788</td>\n      <td>269.629022</td>\n    </tr>\n    <tr>\n      <th>230</th>\n      <td>0.022</td>\n      <td>4373.0</td>\n      <td>198.772727</td>\n      <td>4072.0</td>\n      <td>266.0</td>\n      <td>15.0</td>\n      <td>6.0</td>\n      <td>14.0</td>\n      <td>93.116853</td>\n      <td>6.082781</td>\n      <td>...</td>\n      <td>65.154201</td>\n      <td>14.250266</td>\n      <td>2.481390</td>\n      <td>4160.0</td>\n      <td>95.129202</td>\n      <td>25.168269</td>\n      <td>36.472946</td>\n      <td>24.414869</td>\n      <td>15.361139</td>\n      <td>114.474781</td>\n    </tr>\n    <tr>\n      <th>231</th>\n      <td>0.017</td>\n      <td>6534.0</td>\n      <td>384.352941</td>\n      <td>6496.0</td>\n      <td>8.0</td>\n      <td>8.0</td>\n      <td>21.0</td>\n      <td>1.0</td>\n      <td>99.418427</td>\n      <td>0.122436</td>\n      <td>...</td>\n      <td>77.024568</td>\n      <td>16.878981</td>\n      <td>2.979982</td>\n      <td>6404.0</td>\n      <td>98.010407</td>\n      <td>12.460962</td>\n      <td>19.039146</td>\n      <td>10.447761</td>\n      <td>9.387483</td>\n      <td>138.095680</td>\n    </tr>\n  </tbody>\n</table>\n<p>232 rows × 24 columns</p>\n</div>"
     },
     "metadata": {},
     "execution_count": 59
    }
   ],
   "source": [
    "Xtrain.iloc[:, [*range(23), -1]] # 去掉这一列“是否拥有地铁”"
   ]
  },
  {
   "cell_type": "code",
   "execution_count": 60,
   "metadata": {},
   "outputs": [
    {
     "output_type": "execute_result",
     "data": {
      "text/plain": [
       "         面积       总人口      人口密度      白人人口      非裔人口  美洲印第安人人口      亚洲人口  \\\n",
       "0  0.616975 -0.781589 -0.817515 -0.806262 -0.109249 -0.024001 -0.298458   \n",
       "1 -0.141464 -0.374282 -0.347133 -0.350269 -0.486592 -0.330845 -0.368263   \n",
       "2  0.272230  1.656180  0.754945  1.269442  5.927225 -0.089461  9.576664   \n",
       "3 -0.072515 -0.647145 -0.573205 -0.643865 -0.465347  0.327847 -0.447376   \n",
       "4  3.237036 -0.862212 -1.060456 -0.976797 -0.470405  8.330347 -0.489259   \n",
       "\n",
       "     其他人种人口    白人所占比例    非裔所占比例  ...    大学文凭比例  有工作的人群比例    已知贫困人口  已知贫困人口的比例  \\\n",
       "0 -0.020924 -0.560519  0.359059  ... -0.879865 -0.848804 -0.824188  -1.455058   \n",
       "1 -0.341073  0.588691 -0.457448  ... -0.002157  0.773189 -0.351151   0.550676   \n",
       "2  1.267678 -3.784901  3.098491  ...  4.233941  5.988182  1.400655  -2.735690   \n",
       "3 -0.393097  0.281709 -0.417052  ...  0.516478  0.684514 -0.633180   0.522436   \n",
       "4 -0.445122 -4.025610 -0.416897  ...  0.285901  0.116079 -0.859890   0.302219   \n",
       "\n",
       "   贫困线以下的人的比例  贫困线以下的儿童所占比例  贫困的成年人所占的比例  贫困的老年人所占的比例  是否拥有地铁      点的尺寸  \n",
       "0    0.342460      0.839258     0.428156    -0.582661     0.0 -0.817515  \n",
       "1   -1.033914     -1.207832    -0.982892    -0.331241     0.0 -0.347133  \n",
       "2    3.192365      1.430564     4.211672     0.486112     0.0  0.754945  \n",
       "3    0.092918      0.327251     0.176721    -0.731545     0.0 -0.573205  \n",
       "4    1.591667      1.818087     1.591028     0.593332     0.0 -1.060456  \n",
       "\n",
       "[5 rows x 25 columns]"
      ],
      "text/html": "<div>\n<style scoped>\n    .dataframe tbody tr th:only-of-type {\n        vertical-align: middle;\n    }\n\n    .dataframe tbody tr th {\n        vertical-align: top;\n    }\n\n    .dataframe thead th {\n        text-align: right;\n    }\n</style>\n<table border=\"1\" class=\"dataframe\">\n  <thead>\n    <tr style=\"text-align: right;\">\n      <th></th>\n      <th>面积</th>\n      <th>总人口</th>\n      <th>人口密度</th>\n      <th>白人人口</th>\n      <th>非裔人口</th>\n      <th>美洲印第安人人口</th>\n      <th>亚洲人口</th>\n      <th>其他人种人口</th>\n      <th>白人所占比例</th>\n      <th>非裔所占比例</th>\n      <th>...</th>\n      <th>大学文凭比例</th>\n      <th>有工作的人群比例</th>\n      <th>已知贫困人口</th>\n      <th>已知贫困人口的比例</th>\n      <th>贫困线以下的人的比例</th>\n      <th>贫困线以下的儿童所占比例</th>\n      <th>贫困的成年人所占的比例</th>\n      <th>贫困的老年人所占的比例</th>\n      <th>是否拥有地铁</th>\n      <th>点的尺寸</th>\n    </tr>\n  </thead>\n  <tbody>\n    <tr>\n      <th>0</th>\n      <td>0.616975</td>\n      <td>-0.781589</td>\n      <td>-0.817515</td>\n      <td>-0.806262</td>\n      <td>-0.109249</td>\n      <td>-0.024001</td>\n      <td>-0.298458</td>\n      <td>-0.020924</td>\n      <td>-0.560519</td>\n      <td>0.359059</td>\n      <td>...</td>\n      <td>-0.879865</td>\n      <td>-0.848804</td>\n      <td>-0.824188</td>\n      <td>-1.455058</td>\n      <td>0.342460</td>\n      <td>0.839258</td>\n      <td>0.428156</td>\n      <td>-0.582661</td>\n      <td>0.0</td>\n      <td>-0.817515</td>\n    </tr>\n    <tr>\n      <th>1</th>\n      <td>-0.141464</td>\n      <td>-0.374282</td>\n      <td>-0.347133</td>\n      <td>-0.350269</td>\n      <td>-0.486592</td>\n      <td>-0.330845</td>\n      <td>-0.368263</td>\n      <td>-0.341073</td>\n      <td>0.588691</td>\n      <td>-0.457448</td>\n      <td>...</td>\n      <td>-0.002157</td>\n      <td>0.773189</td>\n      <td>-0.351151</td>\n      <td>0.550676</td>\n      <td>-1.033914</td>\n      <td>-1.207832</td>\n      <td>-0.982892</td>\n      <td>-0.331241</td>\n      <td>0.0</td>\n      <td>-0.347133</td>\n    </tr>\n    <tr>\n      <th>2</th>\n      <td>0.272230</td>\n      <td>1.656180</td>\n      <td>0.754945</td>\n      <td>1.269442</td>\n      <td>5.927225</td>\n      <td>-0.089461</td>\n      <td>9.576664</td>\n      <td>1.267678</td>\n      <td>-3.784901</td>\n      <td>3.098491</td>\n      <td>...</td>\n      <td>4.233941</td>\n      <td>5.988182</td>\n      <td>1.400655</td>\n      <td>-2.735690</td>\n      <td>3.192365</td>\n      <td>1.430564</td>\n      <td>4.211672</td>\n      <td>0.486112</td>\n      <td>0.0</td>\n      <td>0.754945</td>\n    </tr>\n    <tr>\n      <th>3</th>\n      <td>-0.072515</td>\n      <td>-0.647145</td>\n      <td>-0.573205</td>\n      <td>-0.643865</td>\n      <td>-0.465347</td>\n      <td>0.327847</td>\n      <td>-0.447376</td>\n      <td>-0.393097</td>\n      <td>0.281709</td>\n      <td>-0.417052</td>\n      <td>...</td>\n      <td>0.516478</td>\n      <td>0.684514</td>\n      <td>-0.633180</td>\n      <td>0.522436</td>\n      <td>0.092918</td>\n      <td>0.327251</td>\n      <td>0.176721</td>\n      <td>-0.731545</td>\n      <td>0.0</td>\n      <td>-0.573205</td>\n    </tr>\n    <tr>\n      <th>4</th>\n      <td>3.237036</td>\n      <td>-0.862212</td>\n      <td>-1.060456</td>\n      <td>-0.976797</td>\n      <td>-0.470405</td>\n      <td>8.330347</td>\n      <td>-0.489259</td>\n      <td>-0.445122</td>\n      <td>-4.025610</td>\n      <td>-0.416897</td>\n      <td>...</td>\n      <td>0.285901</td>\n      <td>0.116079</td>\n      <td>-0.859890</td>\n      <td>0.302219</td>\n      <td>1.591667</td>\n      <td>1.818087</td>\n      <td>1.591028</td>\n      <td>0.593332</td>\n      <td>0.0</td>\n      <td>-1.060456</td>\n    </tr>\n  </tbody>\n</table>\n<p>5 rows × 25 columns</p>\n</div>"
     },
     "metadata": {},
     "execution_count": 60
    }
   ],
   "source": [
    "#标准化数据集(只需要对连续性变量标准化，是否拥有地铁这个特征就不是连续性变量)\n",
    "from sklearn.preprocessing import StandardScaler\n",
    "ss = StandardScaler().fit(Xtrain.iloc[:, [*range(23), -1]]) # 以训练集为标准的均值和方差\n",
    "\n",
    "Xtrain_ = Xtrain.copy()\n",
    "Xtest_ = Xtest.copy()\n",
    "# 标准化除倒数第二列的所有特征\n",
    "Xtrain_.iloc[:, [*range(23), -1]] = ss.transform(Xtrain.iloc[:, [*range(23), -1]])\n",
    "Xtest_.iloc[:, [*range(23), -1]]= ss.transform(Xtest.iloc[:, [*range(23), -1]])\n",
    "\n",
    "# 输出标准化后的数据\n",
    "Xtrain_.head()\n"
   ]
  },
  {
   "cell_type": "code",
   "execution_count": 83,
   "metadata": {},
   "outputs": [
    {
     "output_type": "stream",
     "name": "stdout",
     "text": [
      "c1\n\tTrain:0.9956896551724138\n\tTest:0.97\n     Average      High       Low      mean       name\n14  1.274035  2.189743 -3.463778  1.731889  具有高中文凭的比率\n15 -0.656186  1.390281 -0.734095  0.367047     大学文凭比例\n16 -0.363926  0.899042 -0.535116  0.267558   有工作的人群比例\n5   0.168316  0.007686 -0.176003  0.088001   美洲印第安人人口\n7   0.015589  0.106681 -0.122271  0.061135     其他人种人口\n\t\nc2\n\tTrain:0.978448275862069\n\tTest:0.97\n     Average      High       Low      mean          name\n20  0.248239  1.652407 -1.900646  0.950323  贫困线以下的儿童所占比例\n19  0.054842  1.639717 -1.694559  0.847279    贫困线以下的人的比例\n21 -0.249106  1.694901 -1.445795  0.722897   贫困的成年人所占的比例\n22 -0.105854  0.797378 -0.691524  0.345762   贫困的老年人所占的比例\n5   0.256889  0.219229 -0.476118  0.238059      美洲印第安人人口\n\t\nc3\n\tTrain:1.0\n\tTest:1.0\n        Coef    name\n23  2.981752  是否拥有地铁\n3   0.104570    白人人口\n17  0.104304  已知贫困人口\n1   0.096218     总人口\n8   0.072634  白人所占比例\n\t\n"
     ]
    }
   ],
   "source": [
    "\n",
    "#使用逻辑回归探索数据集\n",
    "from sklearn.linear_model import LogisticRegression as logiR\n",
    "import pandas as pd\n",
    "# 循环三次，每次建模的y不同\n",
    "for i in range(3):\n",
    "    logi = logiR(solver=\"newton-cg\",max_iter=100**20,multi_class=\"multinomial\").fit(Xtrain_,Ytrain.iloc[:,i].ravel()) # 牛顿法newton-cg   ，声明多分类 multinomial\n",
    "    print(y.columns[i]) # 输出列名\n",
    "    print(\"\\tTrain:{}\".format(logi.score(Xtrain_,Ytrain.iloc[:,i].ravel()))) # 模型的学习能力\n",
    "    print(\"\\tTest:{}\".format(logi.score(Xtest_,Ytest.iloc[:,i].ravel()))) # 模型的泛化能力\n",
    "    coeff = pd.DataFrame(logi.coef_).T # 每行是我们的特征，每列    二分类对应一个系数，三分类对应的三个系数 对应3分类（A,H,L），25特征\n",
    "    if i != 2:  # 三分类\n",
    "        coeff[\"mean\"] = coeff.iloc[:,:-1].mean(axis=1) # 横向求均值\n",
    "        coeff[\"name\"] = Xtrain.columns # 名字\n",
    "        coeff.columns = [\"Average\",\"High\",\"Low\",\"mean\",\"name\"] # 换名字\n",
    "        coeff= coeff.sort_values(by=\"mean\",ascending=False).head() # 按照均值mean降序排序。看特征重要性程度\n",
    "    else: # 二分类\n",
    "        coeff[\"name\"] = Xtrain.columns # 添加一列\n",
    "        coeff.columns = [\"Coef\",\"name\"]\n",
    "        coeff= coeff.sort_values(by=\"Coef\",ascending=False).head() # 按照均值mean降序排序。看特征重要性程度\n",
    "    print(coeff.head())\n",
    "    print(\"\\t\")\n",
    "\n",
    "\n",
    "#结论：第一个字母是平均教育程度的高低，第二个字母是贫困水平的高低，第三个字母是城市还是乡村\n",
    "#基于这个结论，我们对于图可以分析出什么呢？"
   ]
  },
  {
   "cell_type": "code",
   "execution_count": 76,
   "metadata": {},
   "outputs": [
    {
     "output_type": "stream",
     "name": "stdout",
     "text": [
      "c3\n\tTrain:0.6767241379310345\n\tTest:0.71\n"
     ]
    }
   ],
   "source": [
    "# 单独学习讲解\n",
    "#使用逻辑回归探索数据集\n",
    "from sklearn.linear_model import LogisticRegression as logiR\n",
    "import pandas as pd\n",
    "\n",
    "logi = logiR(solver=\"newton-cg\",max_iter=100**20,multi_class=\"multinomial\").fit(Xtrain_,Ytrain.iloc[:,0].ravel()) # 牛顿法newton-cg   ，声明多分类 multinomial\n",
    "print(y.columns[i]) # 输出列名\n",
    "print(\"\\tTrain:{}\".format(logi.score(Xtrain_,Ytrain.iloc[:,i].ravel()))) # 模型的学习能力\n",
    "print(\"\\tTest:{}\".format(logi.score(Xtest_,Ytest.iloc[:,i].ravel()))) # 模型的泛化能力\n",
    "\n"
   ]
  },
  {
   "cell_type": "code",
   "execution_count": 77,
   "metadata": {},
   "outputs": [
    {
     "output_type": "execute_result",
     "data": {
      "text/plain": [
       "(3, 25)"
      ]
     },
     "metadata": {},
     "execution_count": 77
    }
   ],
   "source": [
    "logi.coef_.shape  #逻辑回归的系数 \n",
    "# (3, 25)对应3分类（A,H,L），25特征"
   ]
  },
  {
   "cell_type": "code",
   "execution_count": 78,
   "metadata": {},
   "outputs": [
    {
     "output_type": "execute_result",
     "data": {
      "text/plain": [
       "           0         1         2\n",
       "0  -0.261786  0.383233 -0.121448\n",
       "1  -0.012602 -0.061139  0.073742\n",
       "2  -0.035974 -0.008093  0.044067\n",
       "3  -0.023190 -0.053499  0.076690\n",
       "4   0.084845 -0.177490  0.092645\n",
       "5   0.168316  0.007686 -0.176003\n",
       "6   0.231448 -0.176674 -0.054774\n",
       "7   0.015589  0.106681 -0.122271\n",
       "8  -0.081231  0.069068  0.012164\n",
       "9   0.027529 -0.018855 -0.008674\n",
       "10  0.136636 -0.037515 -0.099120\n",
       "11  0.021112 -0.006676 -0.014437\n",
       "12 -0.003927 -0.210691  0.214618\n",
       "13  0.017634 -0.070756  0.053122\n",
       "14  1.274035  2.189743 -3.463778\n",
       "15 -0.656186  1.390281 -0.734095\n",
       "16 -0.363926  0.899042 -0.535116\n",
       "17 -0.030710 -0.024624  0.055334\n",
       "18  0.118646 -0.176201  0.057554\n",
       "19  0.231073 -0.534413  0.303341\n",
       "20  0.178757 -0.327927  0.149170\n",
       "21  0.180958 -0.662631  0.481673\n",
       "22 -0.052849 -0.117830  0.170679\n",
       "23 -0.530315  0.357261  0.173054\n",
       "24 -0.035974 -0.008093  0.044067"
      ],
      "text/html": "<div>\n<style scoped>\n    .dataframe tbody tr th:only-of-type {\n        vertical-align: middle;\n    }\n\n    .dataframe tbody tr th {\n        vertical-align: top;\n    }\n\n    .dataframe thead th {\n        text-align: right;\n    }\n</style>\n<table border=\"1\" class=\"dataframe\">\n  <thead>\n    <tr style=\"text-align: right;\">\n      <th></th>\n      <th>0</th>\n      <th>1</th>\n      <th>2</th>\n    </tr>\n  </thead>\n  <tbody>\n    <tr>\n      <th>0</th>\n      <td>-0.261786</td>\n      <td>0.383233</td>\n      <td>-0.121448</td>\n    </tr>\n    <tr>\n      <th>1</th>\n      <td>-0.012602</td>\n      <td>-0.061139</td>\n      <td>0.073742</td>\n    </tr>\n    <tr>\n      <th>2</th>\n      <td>-0.035974</td>\n      <td>-0.008093</td>\n      <td>0.044067</td>\n    </tr>\n    <tr>\n      <th>3</th>\n      <td>-0.023190</td>\n      <td>-0.053499</td>\n      <td>0.076690</td>\n    </tr>\n    <tr>\n      <th>4</th>\n      <td>0.084845</td>\n      <td>-0.177490</td>\n      <td>0.092645</td>\n    </tr>\n    <tr>\n      <th>5</th>\n      <td>0.168316</td>\n      <td>0.007686</td>\n      <td>-0.176003</td>\n    </tr>\n    <tr>\n      <th>6</th>\n      <td>0.231448</td>\n      <td>-0.176674</td>\n      <td>-0.054774</td>\n    </tr>\n    <tr>\n      <th>7</th>\n      <td>0.015589</td>\n      <td>0.106681</td>\n      <td>-0.122271</td>\n    </tr>\n    <tr>\n      <th>8</th>\n      <td>-0.081231</td>\n      <td>0.069068</td>\n      <td>0.012164</td>\n    </tr>\n    <tr>\n      <th>9</th>\n      <td>0.027529</td>\n      <td>-0.018855</td>\n      <td>-0.008674</td>\n    </tr>\n    <tr>\n      <th>10</th>\n      <td>0.136636</td>\n      <td>-0.037515</td>\n      <td>-0.099120</td>\n    </tr>\n    <tr>\n      <th>11</th>\n      <td>0.021112</td>\n      <td>-0.006676</td>\n      <td>-0.014437</td>\n    </tr>\n    <tr>\n      <th>12</th>\n      <td>-0.003927</td>\n      <td>-0.210691</td>\n      <td>0.214618</td>\n    </tr>\n    <tr>\n      <th>13</th>\n      <td>0.017634</td>\n      <td>-0.070756</td>\n      <td>0.053122</td>\n    </tr>\n    <tr>\n      <th>14</th>\n      <td>1.274035</td>\n      <td>2.189743</td>\n      <td>-3.463778</td>\n    </tr>\n    <tr>\n      <th>15</th>\n      <td>-0.656186</td>\n      <td>1.390281</td>\n      <td>-0.734095</td>\n    </tr>\n    <tr>\n      <th>16</th>\n      <td>-0.363926</td>\n      <td>0.899042</td>\n      <td>-0.535116</td>\n    </tr>\n    <tr>\n      <th>17</th>\n      <td>-0.030710</td>\n      <td>-0.024624</td>\n      <td>0.055334</td>\n    </tr>\n    <tr>\n      <th>18</th>\n      <td>0.118646</td>\n      <td>-0.176201</td>\n      <td>0.057554</td>\n    </tr>\n    <tr>\n      <th>19</th>\n      <td>0.231073</td>\n      <td>-0.534413</td>\n      <td>0.303341</td>\n    </tr>\n    <tr>\n      <th>20</th>\n      <td>0.178757</td>\n      <td>-0.327927</td>\n      <td>0.149170</td>\n    </tr>\n    <tr>\n      <th>21</th>\n      <td>0.180958</td>\n      <td>-0.662631</td>\n      <td>0.481673</td>\n    </tr>\n    <tr>\n      <th>22</th>\n      <td>-0.052849</td>\n      <td>-0.117830</td>\n      <td>0.170679</td>\n    </tr>\n    <tr>\n      <th>23</th>\n      <td>-0.530315</td>\n      <td>0.357261</td>\n      <td>0.173054</td>\n    </tr>\n    <tr>\n      <th>24</th>\n      <td>-0.035974</td>\n      <td>-0.008093</td>\n      <td>0.044067</td>\n    </tr>\n  </tbody>\n</table>\n</div>"
     },
     "metadata": {},
     "execution_count": 78
    }
   ],
   "source": [
    "coeff = pd.DataFrame(logi.coef_).T # 逻辑回归的系数\n",
    "coeff # 25行，3列"
   ]
  },
  {
   "cell_type": "code",
   "execution_count": null,
   "metadata": {},
   "outputs": [],
   "source": []
  }
 ]
}