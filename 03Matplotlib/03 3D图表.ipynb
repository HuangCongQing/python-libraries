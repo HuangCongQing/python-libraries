{
 "cells": [
  {
   "cell_type": "markdown",
   "metadata": {},
   "source": [
    "Matplotlib中也能支持一些基础的3D图表，比如曲面图，散点图和柱状图。这些3D图表需要使用mpl_toolkits模块"
   ]
  },
  {
   "cell_type": "code",
   "execution_count": null,
   "metadata": {},
   "outputs": [],
   "source": []
  },
  {
   "cell_type": "code",
   "execution_count": 10,
   "metadata": {},
   "outputs": [
    {
     "ename": "SyntaxError",
     "evalue": "invalid syntax (<ipython-input-10-b9f0b9e4c07e>, line 34)",
     "output_type": "error",
     "traceback": [
      "\u001b[1;36m  File \u001b[1;32m\"<ipython-input-10-b9f0b9e4c07e>\"\u001b[1;36m, line \u001b[1;32m34\u001b[0m\n\u001b[1;33m    Z = np.real(np.fft.ifft2(np.fft.ifftshift(spectrum)))\u001b[0m\n\u001b[1;37m    ^\u001b[0m\n\u001b[1;31mSyntaxError\u001b[0m\u001b[1;31m:\u001b[0m invalid syntax\n"
     ]
    }
   ],
   "source": [
    "import matplotlib.pyplot as plt\n",
    "import numpy as np\n",
    "\n",
    "# 3D图标必须的模块，project='3d'的定义\n",
    "from mpl_toolkits.mplot3d import Axes3D     \n",
    "\n",
    "np.random.seed(42)\n",
    "\n",
    "n_grids = 51        \t# x-y平面的格点数 \n",
    "c = n_grids / 2     \t# 中心位置\n",
    "nf = 2              \t# 低频成分的个数\n",
    "\n",
    "# 生成格点\n",
    "x = np.linspace(0, 1, n_grids)\n",
    "y = np.linspace(0, 1, n_grids)\n",
    "\n",
    "# x和y是长度为n_grids的array\n",
    "# meshgrid会把x和y组合成n_grids*n_grids的array，X和Y对应位置就是所有格点的坐标\n",
    "X, Y = np.meshgrid(x, y)\n",
    "\n",
    "# 生成一个0值的傅里叶谱\n",
    "spectrum = np.zeros((n_grids, n_grids), dtype=np.complex)\n",
    "\n",
    "# 生成一段噪音，长度是(2*nf+1)**2/2\n",
    "noise = [np.complex(x, y) for x, y in np.random.uniform(-1,1,((2*nf+1)**2//2, 2))]\n",
    "\n",
    "# 傅里叶频谱的每一项和其共轭关于中心对称\n",
    "noisy_block = np.concatenate((noise, [0j], np.conjugate(noise[::-1])))\n",
    "\n",
    "# 将生成的频谱作为低频成分\n",
    "spectrum[c-nf:c+nf+1, c-nf:c+nf+1] = noisy_block.reshape((int(2*nf+1), int(2*nf+1))\n",
    "\n",
    "# 进行反傅里叶变换\n",
    "Z = np.real(np.fft.ifft2(np.fft.ifftshift(spectrum)))\n",
    "\n",
    "# 创建图表\n",
    "fig = plt.figure('3D surface & wire')\n",
    "\n",
    "# 第一个子图，surface图\n",
    "ax = fig.add_subplot(1, 2, 1, projection='3d')\n",
    "\n",
    "# alpha定义透明度，cmap是color map\n",
    "# rstride和cstride是两个方向上的采样，越小越精细，lw是线宽\n",
    "ax.plot_surface(X, Y, Z, alpha=0.7, cmap='jet', rstride=1, cstride=1, lw=0)\n",
    "\n",
    "# 第二个子图，网线图\n",
    "ax = fig.add_subplot(1, 2, 2, projection='3d')\n",
    "ax.plot_wireframe(X, Y, Z, rstride=3, cstride=3, lw=0.5)\n",
    "\n",
    "plt.show()"
   ]
  },
  {
   "cell_type": "markdown",
   "metadata": {},
   "source": [
    "这个例子中先生成一个所有值均为0的复数array作为初始频谱，然后把频谱中央部分用随机生成，但同时共轭关于中心对称的子矩阵进行填充。这相当于只有低频成分的一个随机频谱。最后进行反傅里叶变换就得到一个随机波动的曲面，图像如下："
   ]
  },
  {
   "cell_type": "code",
   "execution_count": null,
   "metadata": {},
   "outputs": [],
   "source": []
  }
 ],
 "metadata": {
  "kernelspec": {
   "display_name": "Python 3",
   "language": "python",
   "name": "python3"
  },
  "language_info": {
   "codemirror_mode": {
    "name": "ipython",
    "version": 3
   },
   "file_extension": ".py",
   "mimetype": "text/x-python",
   "name": "python",
   "nbconvert_exporter": "python",
   "pygments_lexer": "ipython3",
   "version": "3.5.4"
  }
 },
 "nbformat": 4,
 "nbformat_minor": 2
}
