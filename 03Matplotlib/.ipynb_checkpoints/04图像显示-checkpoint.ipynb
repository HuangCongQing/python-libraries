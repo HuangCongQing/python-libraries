{
 "cells": [
  {
   "cell_type": "markdown",
   "metadata": {},
   "source": [
    "Matplotlib也支持图像的存取和显示，并且和OpenCV一类的接口比起来，对于一般的二维矩阵的可视化要方便很多"
   ]
  },
  {
   "cell_type": "code",
   "execution_count": null,
   "metadata": {},
   "outputs": [],
   "source": [
    "import matplotlib.pyplot as plt\n",
    "\n",
    "# 读取一张小白狗的照片并显示\n",
    "plt.figure('A Little White Dog')\n",
    "little_dog_img = plt.imread('result.png')\n",
    "plt.imshow(little_dog_img)\n",
    "\n",
    "# Z是上小节生成的随机图案，img0就是Z，img1是Z做了个简单的变换\n",
    "img0 = Z\n",
    "img1 = 3*Z + 4\n",
    "\n",
    "# cmap指定为'gray'用来显示灰度图\n",
    "fig = plt.figure('Auto Normalized Visualization')\n",
    "ax0 = fig.add_subplot(121)\n",
    "ax0.imshow(img0, cmap='gray')\n",
    "\n",
    "ax1 = fig.add_subplot(122)\n",
    "ax1.imshow(img1, cmap='gray')\n",
    "\n",
    "plt.show()"
   ]
  }
 ],
 "metadata": {
  "kernelspec": {
   "display_name": "Python 3",
   "language": "python",
   "name": "python3"
  },
  "language_info": {
   "codemirror_mode": {
    "name": "ipython",
    "version": 3
   },
   "file_extension": ".py",
   "mimetype": "text/x-python",
   "name": "python",
   "nbconvert_exporter": "python",
   "pygments_lexer": "ipython3",
   "version": "3.5.4"
  }
 },
 "nbformat": 4,
 "nbformat_minor": 2
}
