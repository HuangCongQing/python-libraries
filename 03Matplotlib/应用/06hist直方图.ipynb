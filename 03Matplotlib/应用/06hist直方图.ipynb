{
 "cells": [
  {
   "cell_type": "markdown",
   "metadata": {},
   "source": []
  },
  {
   "cell_type": "code",
   "execution_count": 8,
   "metadata": {},
   "outputs": [
    {
     "data": {
      "image/png": "[encoded data removed]",
      "text/plain": [
       "<Figure size 432x288 with 1 Axes>"
      ]
     },
     "metadata": {
      "needs_background": "light"
     },
     "output_type": "display_data"
    }
   ],
   "source": [
    "import matplotlib.pyplot as plt\n",
    "X  = [1,2,3,4]\n",
    "Y = [\"cat\", \"cat\", \"dog\", \"lion\"]\n",
    "# plt.plot(Y) # \n",
    "# plt.scatter(X,Y)\n",
    "plt.hist(Y) # 直方图统计数量\n",
    "\n",
    "# 显示\n",
    "plt.show()"
   ]
  },
  {
   "cell_type": "code",
   "execution_count": null,
   "metadata": {},
   "outputs": [],
   "source": []
  }
 ],
 "metadata": {
  "kernelspec": {
   "display_name": "Python 3.8.13 ('waymo_38')",
   "language": "python",
   "name": "python3"
  },
  "language_info": {
   "codemirror_mode": {
    "name": "ipython",
    "version": 3
   },
   "file_extension": ".py",
   "mimetype": "text/x-python",
   "name": "python",
   "nbconvert_exporter": "python",
   "pygments_lexer": "ipython3",
   "version": "3.8.13"
  },
  "orig_nbformat": 4,
  "vscode": {
   "interpreter": {
    "hash": "44c80fdca727e273b3b1fdcfb86e5664b0451e88fa74e3d1ad2cb050c7994d10"
   }
  }
 },
 "nbformat": 4,
 "nbformat_minor": 2
}
