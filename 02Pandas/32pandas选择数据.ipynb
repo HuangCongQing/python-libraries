{
 "cells": [
  {
   "cell_type": "markdown",
   "metadata": {},
   "source": [
    "32pandas选择数据"
   ]
  },
  {
   "cell_type": "code",
   "execution_count": 9,
   "metadata": {},
   "outputs": [],
   "source": [
    "import pandas as pd\n",
    "import numpy as np"
   ]
  },
  {
   "cell_type": "code",
   "execution_count": 19,
   "metadata": {},
   "outputs": [],
   "source": [
    "dates = pd.date_range('20190311',periods=6)\n",
    "\n",
    "df = pd.DataFrame(np.arange(24).reshape((6, 4)), index=dates, columns=['A', 'B', 'C', 'D'])"
   ]
  },
  {
   "cell_type": "code",
   "execution_count": 22,
   "metadata": {},
   "outputs": [
    {
     "name": "stdout",
     "output_type": "stream",
     "text": [
      "             A   B   C   D\n",
      "2019-03-11   0   1   2   3\n",
      "2019-03-12   4   5   6   7\n",
      "2019-03-13   8   9  10  11\n",
      "2019-03-14  12  13  14  15\n",
      "2019-03-15  16  17  18  19\n",
      "2019-03-16  20  21  22  23\n",
      "2019-03-11     0\n",
      "2019-03-12     4\n",
      "2019-03-13     8\n",
      "2019-03-14    12\n",
      "2019-03-15    16\n",
      "2019-03-16    20\n",
      "Freq: D, Name: A, dtype: int32 2019-03-11     0\n",
      "2019-03-12     4\n",
      "2019-03-13     8\n",
      "2019-03-14    12\n",
      "2019-03-15    16\n",
      "2019-03-16    20\n",
      "Freq: D, Name: A, dtype: int32\n",
      "            A  B   C   D\n",
      "2019-03-11  0  1   2   3\n",
      "2019-03-12  4  5   6   7\n",
      "2019-03-13  8  9  10  11              A   B   C   D\n",
      "2019-03-11   0   1   2   3\n",
      "2019-03-12   4   5   6   7\n",
      "2019-03-13   8   9  10  11\n",
      "2019-03-14  12  13  14  15\n"
     ]
    }
   ],
   "source": [
    "print(df)\n",
    "print(df['A'], df.A)\n",
    "\n",
    "\n"
   ]
  },
  {
   "cell_type": "code",
   "execution_count": 23,
   "metadata": {},
   "outputs": [
    {
     "name": "stdout",
     "output_type": "stream",
     "text": [
      "            A  B   C   D\n",
      "2019-03-11  0  1   2   3\n",
      "2019-03-12  4  5   6   7\n",
      "2019-03-13  8  9  10  11              A   B   C   D\n",
      "2019-03-11   0   1   2   3\n",
      "2019-03-12   4   5   6   7\n",
      "2019-03-13   8   9  10  11\n",
      "2019-03-14  12  13  14  15\n"
     ]
    }
   ],
   "source": [
    "print(df[0:3], df['20190311':'20190314'])"
   ]
  },
  {
   "cell_type": "markdown",
   "metadata": {},
   "source": [
    "* 标签选择 df.loc[]\n"
   ]
  },
  {
   "cell_type": "code",
   "execution_count": 27,
   "metadata": {},
   "outputs": [
    {
     "name": "stdout",
     "output_type": "stream",
     "text": [
      "A    0\n",
      "B    1\n",
      "C    2\n",
      "D    3\n",
      "Name: 2019-03-11 00:00:00, dtype: int32\n",
      "             A   B\n",
      "2019-03-11   0   1\n",
      "2019-03-12   4   5\n",
      "2019-03-13   8   9\n",
      "2019-03-14  12  13\n",
      "2019-03-15  16  17\n",
      "2019-03-16  20  21\n",
      "A    0\n",
      "B    1\n",
      "Name: 2019-03-11 00:00:00, dtype: int32\n"
     ]
    }
   ],
   "source": [
    "print(df.loc['20190311'])\n",
    "print(df.loc[:,['A','B']])\n",
    "print(df.loc['20190311',['A','B']])"
   ]
  },
  {
   "cell_type": "markdown",
   "metadata": {},
   "source": [
    "位置选择：iloc"
   ]
  },
  {
   "cell_type": "code",
   "execution_count": 30,
   "metadata": {},
   "outputs": [
    {
     "name": "stdout",
     "output_type": "stream",
     "text": [
      "13\n",
      "             B   C\n",
      "2019-03-12   5   6\n",
      "2019-03-14  13  14\n",
      "2019-03-16  21  22\n"
     ]
    }
   ],
   "source": [
    "print(df.iloc[3,1])# 第三行第一位\n",
    "print(df.iloc[[1,3,5],1:3])"
   ]
  },
  {
   "cell_type": "markdown",
   "metadata": {},
   "source": [
    "mixed selection:ix"
   ]
  },
  {
   "cell_type": "code",
   "execution_count": 33,
   "metadata": {},
   "outputs": [
    {
     "name": "stdout",
     "output_type": "stream",
     "text": [
      "            A   C\n",
      "2019-03-11  0   2\n",
      "2019-03-12  4   6\n",
      "2019-03-13  8  10\n"
     ]
    },
    {
     "name": "stderr",
     "output_type": "stream",
     "text": [
      "c:\\users\\hasee\\appdata\\local\\programs\\python\\python35\\lib\\site-packages\\ipykernel_launcher.py:1: DeprecationWarning: \n",
      ".ix is deprecated. Please use\n",
      ".loc for label based indexing or\n",
      ".iloc for positional indexing\n",
      "\n",
      "See the documentation here:\n",
      "http://pandas.pydata.org/pandas-docs/stable/indexing.html#ix-indexer-is-deprecated\n",
      "  \"\"\"Entry point for launching an IPython kernel.\n"
     ]
    }
   ],
   "source": [
    "print(df.ix[:3, ['A','C']])# .ix is deprecated."
   ]
  },
  {
   "cell_type": "markdown",
   "metadata": {},
   "source": [
    "* Boolean indexing"
   ]
  },
  {
   "cell_type": "code",
   "execution_count": 36,
   "metadata": {},
   "outputs": [
    {
     "name": "stdout",
     "output_type": "stream",
     "text": [
      "             A   B   C   D\n",
      "2019-03-14  12  13  14  15\n",
      "2019-03-15  16  17  18  19\n",
      "2019-03-16  20  21  22  23\n"
     ]
    }
   ],
   "source": [
    "print(df[df.A>8])# 筛选A中大于A"
   ]
  },
  {
   "cell_type": "code",
   "execution_count": null,
   "metadata": {},
   "outputs": [],
   "source": []
  },
  {
   "cell_type": "code",
   "execution_count": null,
   "metadata": {},
   "outputs": [],
   "source": []
  }
 ],
 "metadata": {
  "kernelspec": {
   "display_name": "Python 3",
   "language": "python",
   "name": "python3"
  },
  "language_info": {
   "codemirror_mode": {
    "name": "ipython",
    "version": 3
   },
   "file_extension": ".py",
   "mimetype": "text/x-python",
   "name": "python",
   "nbconvert_exporter": "python",
   "pygments_lexer": "ipython3",
   "version": "3.5.4"
  }
 },
 "nbformat": 4,
 "nbformat_minor": 2
}
