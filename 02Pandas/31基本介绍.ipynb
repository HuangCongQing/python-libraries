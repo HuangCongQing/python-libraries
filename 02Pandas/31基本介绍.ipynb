{
 "cells": [
  {
   "cell_type": "code",
   "execution_count": 5,
   "metadata": {},
   "outputs": [
    {
     "name": "stdout",
     "output_type": "stream",
     "text": [
      "0     1.0\n",
      "1     3.0\n",
      "2     5.0\n",
      "3     NaN\n",
      "4    44.0\n",
      "5     1.0\n",
      "dtype: float64\n",
      "DatetimeIndex(['2019-03-08', '2019-03-09', '2019-03-10', '2019-03-11',\n",
      "               '2019-03-12', '2019-03-13'],\n",
      "              dtype='datetime64[ns]', freq='D')\n"
     ]
    }
   ],
   "source": [
    "import pandas as pd\n",
    "import numpy as np\n",
    "\n",
    "# pandas 字典形式的numpy\n",
    "\n",
    "\n",
    "s = pd.Series([1, 3, 5, np.nan, 44, 1])\n",
    "print(s)\n",
    "\n",
    "dates = pd.date_range('20190308', periods=6)\n",
    "print(dates)"
   ]
  },
  {
   "cell_type": "markdown",
   "metadata": {},
   "source": [
    "* df = pd.DataFrame(np.random.randn(6, 4), index=dates, columns=['a', 'b', 'c', 'd'])\n"
   ]
  },
  {
   "cell_type": "code",
   "execution_count": 18,
   "metadata": {},
   "outputs": [
    {
     "name": "stdout",
     "output_type": "stream",
     "text": [
      "                   a         b         c         d\n",
      "2019-03-08 -1.722567  0.033134  1.952316  0.298506\n",
      "2019-03-09  0.369422  0.127536  0.951549  0.084539\n",
      "2019-03-10  0.497430  0.550305 -1.548201 -0.759553\n",
      "2019-03-11 -0.002319  0.436682 -0.312658  1.179105\n",
      "2019-03-12  1.070024 -1.275116 -0.344830 -1.112834\n",
      "2019-03-13  0.634551  1.905608  0.854035 -0.787498\n",
      "   0  1   2   3\n",
      "0  0  1   2   3\n",
      "1  4  5   6   7\n",
      "2  8  9  10  11\n",
      "     A          B    C      D\n",
      "0  1.0 2019-03-09  1.0   test\n",
      "1  1.0 2019-03-09  1.0  train\n",
      "2  1.0 2019-03-09  1.0   test\n",
      "3  1.0 2019-03-09  1.0  train\n"
     ]
    }
   ],
   "source": [
    "df = pd.DataFrame(np.random.randn(6, 4), index=dates, columns=['a', 'b', 'c', 'd'])\n",
    "print(df)\n",
    "df1 = pd.DataFrame(np.arange(12).reshape(3,4))\n",
    "print(df1)\n",
    "df2 = pd.DataFrame({'A':1.,\n",
    "                   'B': pd.Timestamp('20190309'),\n",
    "                    'C': pd.Series(1,index=list(range(4)),dtype='float32'),\n",
    "                    'D':pd.Categorical([\"test\",\"train\",\"test\",'train'])\n",
    "                   })\n",
    "print(df2)"
   ]
  },
  {
   "cell_type": "code",
   "execution_count": 25,
   "metadata": {},
   "outputs": [
    {
     "name": "stdout",
     "output_type": "stream",
     "text": [
      "A           float64\n",
      "B    datetime64[ns]\n",
      "C           float32\n",
      "D          category\n",
      "dtype: object\n",
      "Int64Index([0, 1, 2, 3], dtype='int64')\n",
      "Index(['A', 'B', 'C', 'D'], dtype='object')\n",
      "[[1.0 Timestamp('2019-03-09 00:00:00') 1.0 'test']\n",
      " [1.0 Timestamp('2019-03-09 00:00:00') 1.0 'train']\n",
      " [1.0 Timestamp('2019-03-09 00:00:00') 1.0 'test']\n",
      " [1.0 Timestamp('2019-03-09 00:00:00') 1.0 'train']]\n"
     ]
    }
   ],
   "source": [
    "print(df2.dtypes) # dtype\n",
    "print(df2.index)# index\n",
    "print(df2.columns)# column\n",
    "print(df2.values)# values 里面的值"
   ]
  },
  {
   "cell_type": "code",
   "execution_count": 26,
   "metadata": {},
   "outputs": [
    {
     "name": "stdout",
     "output_type": "stream",
     "text": [
      "         A    C\n",
      "count  4.0  4.0\n",
      "mean   1.0  1.0\n",
      "std    0.0  0.0\n",
      "min    1.0  1.0\n",
      "25%    1.0  1.0\n",
      "50%    1.0  1.0\n",
      "75%    1.0  1.0\n",
      "max    1.0  1.0\n"
     ]
    }
   ],
   "source": [
    "print(df2.describe()) # 均值，方差，平均值等等"
   ]
  },
  {
   "cell_type": "code",
   "execution_count": 27,
   "metadata": {},
   "outputs": [
    {
     "name": "stdout",
     "output_type": "stream",
     "text": [
      "                     0                    1                    2  \\\n",
      "A                    1                    1                    1   \n",
      "B  2019-03-09 00:00:00  2019-03-09 00:00:00  2019-03-09 00:00:00   \n",
      "C                    1                    1                    1   \n",
      "D                 test                train                 test   \n",
      "\n",
      "                     3  \n",
      "A                    1  \n",
      "B  2019-03-09 00:00:00  \n",
      "C                    1  \n",
      "D                train  \n"
     ]
    }
   ],
   "source": [
    "print(df2.T)# 转置"
   ]
  },
  {
   "cell_type": "code",
   "execution_count": 31,
   "metadata": {},
   "outputs": [
    {
     "name": "stdout",
     "output_type": "stream",
     "text": [
      "       D    C          B    A\n",
      "0   test  1.0 2019-03-09  1.0\n",
      "1  train  1.0 2019-03-09  1.0\n",
      "2   test  1.0 2019-03-09  1.0\n",
      "3  train  1.0 2019-03-09  1.0\n",
      "     A          B    C      D\n",
      "3  1.0 2019-03-09  1.0  train\n",
      "2  1.0 2019-03-09  1.0   test\n",
      "1  1.0 2019-03-09  1.0  train\n",
      "0  1.0 2019-03-09  1.0   test\n"
     ]
    }
   ],
   "source": [
    "# axis=1\n",
    "# ascending\n",
    "print(df2.sort_index(axis=1,ascending=False))\n",
    "print(df2.sort_index(axis=0,ascending=False))"
   ]
  },
  {
   "cell_type": "code",
   "execution_count": 37,
   "metadata": {},
   "outputs": [
    {
     "name": "stdout",
     "output_type": "stream",
     "text": [
      "     A          B    C      D\n",
      "0  1.0 2019-03-09  1.0   test\n",
      "1  1.0 2019-03-09  1.0  train\n",
      "2  1.0 2019-03-09  1.0   test\n",
      "3  1.0 2019-03-09  1.0  train\n"
     ]
    }
   ],
   "source": [
    "print(df2.sort_values(by='B')) # B轴排序"
   ]
  },
  {
   "cell_type": "code",
   "execution_count": null,
   "metadata": {},
   "outputs": [],
   "source": []
  }
 ],
 "metadata": {
  "kernelspec": {
   "display_name": "Python 3",
   "language": "python",
   "name": "python3"
  },
  "language_info": {
   "codemirror_mode": {
    "name": "ipython",
    "version": 3
   },
   "file_extension": ".py",
   "mimetype": "text/x-python",
   "name": "python",
   "nbconvert_exporter": "python",
   "pygments_lexer": "ipython3",
   "version": "3.5.4"
  }
 },
 "nbformat": 4,
 "nbformat_minor": 2
}
